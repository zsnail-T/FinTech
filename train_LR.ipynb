{
 "cells": [
  {
   "cell_type": "code",
   "execution_count": 1,
   "metadata": {},
   "outputs": [],
   "source": [
    "from model.LinearModel import LinearRegression\n",
    "import pandas as pd\n",
    "from sklearn.metrics import mean_squared_error as MSE\n",
    "from sklearn.model_selection import train_test_split\n",
    "from sklearn.metrics import r2_score\n",
    "from sklearn.preprocessing import StandardScaler, MinMaxScaler, normalize\n",
    "import numpy as np\n",
    "import matplotlib.pyplot as plt\n",
    "import time\n",
    "import pickle\n",
    "from utils import *"
   ]
  },
  {
   "cell_type": "code",
   "execution_count": 2,
   "metadata": {},
   "outputs": [
    {
     "name": "stdout",
     "output_type": "stream",
     "text": [
      "Random Seed:  1\n"
     ]
    },
    {
     "data": {
      "text/html": [
       "<div>\n",
       "<style scoped>\n",
       "    .dataframe tbody tr th:only-of-type {\n",
       "        vertical-align: middle;\n",
       "    }\n",
       "\n",
       "    .dataframe tbody tr th {\n",
       "        vertical-align: top;\n",
       "    }\n",
       "\n",
       "    .dataframe thead th {\n",
       "        text-align: right;\n",
       "    }\n",
       "</style>\n",
       "<table border=\"1\" class=\"dataframe\">\n",
       "  <thead>\n",
       "    <tr style=\"text-align: right;\">\n",
       "      <th></th>\n",
       "      <th>DXYUSD_Open</th>\n",
       "      <th>DXYUSD_High</th>\n",
       "      <th>DXYUSD_Low</th>\n",
       "      <th>DXYUSD_Close</th>\n",
       "      <th>DXYUSD_AdjClose</th>\n",
       "      <th>World_Index_Open</th>\n",
       "      <th>World_Index_High</th>\n",
       "      <th>World_Index_Low</th>\n",
       "      <th>World_Index_Close</th>\n",
       "      <th>World_Index_AdjClose</th>\n",
       "      <th>...</th>\n",
       "      <th>DJCI_volatility</th>\n",
       "      <th>CrudeOil_Return</th>\n",
       "      <th>CrudeOil_volatility</th>\n",
       "      <th>SPY_Return</th>\n",
       "      <th>SPY_volatility</th>\n",
       "      <th>VIX_Return</th>\n",
       "      <th>VIX_volatility</th>\n",
       "      <th>TNXTbill_Return</th>\n",
       "      <th>TNXTbill_volatility</th>\n",
       "      <th>Return</th>\n",
       "    </tr>\n",
       "  </thead>\n",
       "  <tbody>\n",
       "    <tr>\n",
       "      <th>0</th>\n",
       "      <td>82.160004</td>\n",
       "      <td>82.269997</td>\n",
       "      <td>81.599998</td>\n",
       "      <td>81.730003</td>\n",
       "      <td>81.730003</td>\n",
       "      <td>61.549999</td>\n",
       "      <td>62.000000</td>\n",
       "      <td>61.549999</td>\n",
       "      <td>62.000000</td>\n",
       "      <td>52.829594</td>\n",
       "      <td>...</td>\n",
       "      <td>0.070000</td>\n",
       "      <td>-0.011005</td>\n",
       "      <td>1.760002</td>\n",
       "      <td>0.002385</td>\n",
       "      <td>1.110000</td>\n",
       "      <td>-0.013858</td>\n",
       "      <td>0.77</td>\n",
       "      <td>0.004197</td>\n",
       "      <td>0.041</td>\n",
       "      <td>-0.115983</td>\n",
       "    </tr>\n",
       "    <tr>\n",
       "      <th>1</th>\n",
       "      <td>81.709999</td>\n",
       "      <td>81.739998</td>\n",
       "      <td>81.330002</td>\n",
       "      <td>81.639999</td>\n",
       "      <td>81.639999</td>\n",
       "      <td>61.389999</td>\n",
       "      <td>61.389999</td>\n",
       "      <td>61.389999</td>\n",
       "      <td>61.389999</td>\n",
       "      <td>52.309818</td>\n",
       "      <td>...</td>\n",
       "      <td>0.090000</td>\n",
       "      <td>-0.026000</td>\n",
       "      <td>3.150001</td>\n",
       "      <td>-0.008767</td>\n",
       "      <td>1.309998</td>\n",
       "      <td>0.071746</td>\n",
       "      <td>0.80</td>\n",
       "      <td>-0.021493</td>\n",
       "      <td>0.044</td>\n",
       "      <td>-0.120081</td>\n",
       "    </tr>\n",
       "    <tr>\n",
       "      <th>2</th>\n",
       "      <td>81.620003</td>\n",
       "      <td>82.349998</td>\n",
       "      <td>81.510002</td>\n",
       "      <td>82.209999</td>\n",
       "      <td>82.209999</td>\n",
       "      <td>62.349998</td>\n",
       "      <td>62.650002</td>\n",
       "      <td>62.349998</td>\n",
       "      <td>62.650002</td>\n",
       "      <td>53.383457</td>\n",
       "      <td>...</td>\n",
       "      <td>0.800000</td>\n",
       "      <td>0.032517</td>\n",
       "      <td>3.599998</td>\n",
       "      <td>0.009287</td>\n",
       "      <td>1.360000</td>\n",
       "      <td>-0.062112</td>\n",
       "      <td>0.90</td>\n",
       "      <td>-0.004881</td>\n",
       "      <td>0.041</td>\n",
       "      <td>0.300187</td>\n",
       "    </tr>\n",
       "    <tr>\n",
       "      <th>3</th>\n",
       "      <td>82.220001</td>\n",
       "      <td>82.519997</td>\n",
       "      <td>81.910004</td>\n",
       "      <td>82.099998</td>\n",
       "      <td>82.099998</td>\n",
       "      <td>63.779999</td>\n",
       "      <td>65.470001</td>\n",
       "      <td>60.580002</td>\n",
       "      <td>63.000000</td>\n",
       "      <td>53.681683</td>\n",
       "      <td>...</td>\n",
       "      <td>0.019998</td>\n",
       "      <td>0.017236</td>\n",
       "      <td>2.480003</td>\n",
       "      <td>0.010141</td>\n",
       "      <td>2.100006</td>\n",
       "      <td>-0.054452</td>\n",
       "      <td>0.38</td>\n",
       "      <td>0.074188</td>\n",
       "      <td>0.125</td>\n",
       "      <td>-0.100820</td>\n",
       "    </tr>\n",
       "    <tr>\n",
       "      <th>4</th>\n",
       "      <td>81.980003</td>\n",
       "      <td>82.410004</td>\n",
       "      <td>81.980003</td>\n",
       "      <td>82.320000</td>\n",
       "      <td>82.320000</td>\n",
       "      <td>64.500000</td>\n",
       "      <td>64.599998</td>\n",
       "      <td>63.500000</td>\n",
       "      <td>63.630001</td>\n",
       "      <td>54.218506</td>\n",
       "      <td>...</td>\n",
       "      <td>0.119999</td>\n",
       "      <td>0.005753</td>\n",
       "      <td>2.320000</td>\n",
       "      <td>0.002541</td>\n",
       "      <td>0.589997</td>\n",
       "      <td>-0.014786</td>\n",
       "      <td>0.53</td>\n",
       "      <td>0.010845</td>\n",
       "      <td>0.038</td>\n",
       "      <td>0.058647</td>\n",
       "    </tr>\n",
       "  </tbody>\n",
       "</table>\n",
       "<p>5 rows × 72 columns</p>\n",
       "</div>"
      ],
      "text/plain": [
       "   DXYUSD_Open  DXYUSD_High  DXYUSD_Low  DXYUSD_Close  DXYUSD_AdjClose  \\\n",
       "0    82.160004    82.269997   81.599998     81.730003        81.730003   \n",
       "1    81.709999    81.739998   81.330002     81.639999        81.639999   \n",
       "2    81.620003    82.349998   81.510002     82.209999        82.209999   \n",
       "3    82.220001    82.519997   81.910004     82.099998        82.099998   \n",
       "4    81.980003    82.410004   81.980003     82.320000        82.320000   \n",
       "\n",
       "   World_Index_Open  World_Index_High  World_Index_Low  World_Index_Close  \\\n",
       "0         61.549999         62.000000        61.549999          62.000000   \n",
       "1         61.389999         61.389999        61.389999          61.389999   \n",
       "2         62.349998         62.650002        62.349998          62.650002   \n",
       "3         63.779999         65.470001        60.580002          63.000000   \n",
       "4         64.500000         64.599998        63.500000          63.630001   \n",
       "\n",
       "   World_Index_AdjClose  ...  DJCI_volatility  CrudeOil_Return  \\\n",
       "0             52.829594  ...         0.070000        -0.011005   \n",
       "1             52.309818  ...         0.090000        -0.026000   \n",
       "2             53.383457  ...         0.800000         0.032517   \n",
       "3             53.681683  ...         0.019998         0.017236   \n",
       "4             54.218506  ...         0.119999         0.005753   \n",
       "\n",
       "   CrudeOil_volatility  SPY_Return  SPY_volatility  VIX_Return  \\\n",
       "0             1.760002    0.002385        1.110000   -0.013858   \n",
       "1             3.150001   -0.008767        1.309998    0.071746   \n",
       "2             3.599998    0.009287        1.360000   -0.062112   \n",
       "3             2.480003    0.010141        2.100006   -0.054452   \n",
       "4             2.320000    0.002541        0.589997   -0.014786   \n",
       "\n",
       "   VIX_volatility  TNXTbill_Return  TNXTbill_volatility    Return  \n",
       "0            0.77         0.004197                0.041 -0.115983  \n",
       "1            0.80        -0.021493                0.044 -0.120081  \n",
       "2            0.90        -0.004881                0.041  0.300187  \n",
       "3            0.38         0.074188                0.125 -0.100820  \n",
       "4            0.53         0.010845                0.038  0.058647  \n",
       "\n",
       "[5 rows x 72 columns]"
      ]
     },
     "execution_count": 2,
     "metadata": {},
     "output_type": "execute_result"
    }
   ],
   "source": [
    "# load FinTech data\n",
    "set_rand_seed(1)\n",
    "df = pd.read_csv('./data/FinTech.csv', encoding='utf-8')\n",
    "df.head()"
   ]
  },
  {
   "cell_type": "code",
   "execution_count": 3,
   "metadata": {},
   "outputs": [
    {
     "name": "stdout",
     "output_type": "stream",
     "text": [
      "(1910, 71) (1910, 1)\n",
      "(1528, 71) (1528, 1) (382, 71) (382, 1)\n"
     ]
    }
   ],
   "source": [
    "# Divide the data set into inputs and outputs\n",
    "df_input = df.drop(['Return'], axis=1).values\n",
    "df_ouput = df[['Return']].values\n",
    "df_input.shape, df_ouput.shape\n",
    "# df_input = df.drop(['BTC_Price'], axis=1)\n",
    "# df_ouput = df[['BTC_Price']]\n",
    "# df_input.shape, df_ouput.shape\n",
    "\n",
    "\n",
    "n_samples, n_features = df_input.shape[0], df_input.shape[-1]\n",
    "print(df_input.shape, df_ouput.shape)\n",
    "# split data to train and test set\n",
    "# X_train, X_test, Y_train, Y_test = train_test_split(df_input, df_ouput, test_size=0.2, random_state=1, shuffle=True)\n",
    "n_train = int(n_samples * 0.8)\n",
    "X_train, X_test = df_input[:n_train], df_input[n_train:]\n",
    "Y_train, Y_test = df_ouput[:n_train], df_ouput[n_train:]\n",
    "\n",
    "\n",
    "# # Normalized data (mean:0, std:1)\n",
    "X_train_scaler = StandardScaler()\n",
    "Y_train_scaler = StandardScaler()\n",
    "X_test_scaler = StandardScaler()\n",
    "Y_test_scaler = StandardScaler()\n",
    "\n",
    "X_train = X_train_scaler.fit_transform(X_train)\n",
    "X_test = X_test_scaler.fit_transform(X_test)\n",
    "Y_train = Y_train_scaler.fit_transform(Y_train)\n",
    "Y_test = Y_test_scaler.fit_transform(Y_test)\n",
    "\n",
    "print(X_train.shape, Y_train.shape, X_test.shape, Y_test.shape)"
   ]
  },
  {
   "cell_type": "code",
   "execution_count": 4,
   "metadata": {},
   "outputs": [],
   "source": [
    "# # # using all examples for training\n",
    "# X_train, Y_train = df_input.values, df_ouput.values\n",
    "# X_test = copy.deepcopy(X_train)\n",
    "# Y_test = copy.deepcopy(Y_train)"
   ]
  },
  {
   "cell_type": "code",
   "execution_count": 4,
   "metadata": {},
   "outputs": [],
   "source": [
    "time_step=1\n",
    "n_features = X_train.shape[1]\n",
    "# built timeseries data for LSTM\n",
    "def time_sequence(X, Y, time_step=time_step):\n",
    "    n_samples = X.shape[0]\n",
    "    X_data = np.zeros([n_samples-time_step+1, time_step * n_features])\n",
    "    Y_data = Y[time_step-1:, :]\n",
    "    n_samples = X_data.shape[0]\n",
    "\n",
    "    for i in range(n_samples):\n",
    "        X_data[i, :] = X[i:i+time_step, :].reshape(1, -1)\n",
    "    return X_data, Y_data\n",
    "X_train, Y_train = time_sequence(X_train, Y_train)\n",
    "X_test, Y_test = time_sequence(X_test, Y_test)"
   ]
  },
  {
   "cell_type": "code",
   "execution_count": 5,
   "metadata": {},
   "outputs": [
    {
     "data": {
      "text/plain": [
       "((1528, 71), (1528, 1), (382, 71), (382, 1))"
      ]
     },
     "execution_count": 5,
     "metadata": {},
     "output_type": "execute_result"
    }
   ],
   "source": [
    "X_train.shape, Y_train.shape, X_test.shape, Y_test.shape"
   ]
  },
  {
   "cell_type": "code",
   "execution_count": 6,
   "metadata": {},
   "outputs": [
    {
     "data": {
      "text/plain": [
       "(array([9.30029759e-18]), array([1.]), array([0.]), array([1.]))"
      ]
     },
     "execution_count": 6,
     "metadata": {},
     "output_type": "execute_result"
    }
   ],
   "source": [
    "Y_train.mean(axis=0), Y_train.std(axis=0), Y_test.mean(axis=0), Y_test.std(axis=0)"
   ]
  },
  {
   "cell_type": "code",
   "execution_count": 8,
   "metadata": {},
   "outputs": [],
   "source": [
    "# import pandas as pd\n",
    "# import seaborn as sns\n",
    "# from scipy.stats import *\n",
    "# import matplotlib.pyplot as plt\n",
    "# plt.figure(figsize=(12,9))\n",
    "# for i in range(df_input.shape[1]):\n",
    "#     plt.figure(1)\n",
    "#     ax1 = sns.distplot(X_train[:,i],kde_kws={\"label\":\"train_set\"})\n",
    "#     ax2 = sns.distplot(X_test[:,i],kde_kws={\"label\":\"test_set\"})\n",
    "#     plt.title(df_input.columns[i])\n",
    "#     plt.show()\n",
    "# #     time.sleep(1)"
   ]
  },
  {
   "cell_type": "code",
   "execution_count": 7,
   "metadata": {},
   "outputs": [
    {
     "name": "stdout",
     "output_type": "stream",
     "text": [
      "iteration:1000\t loss:0.497870\n",
      "iteration:2000\t loss:0.497746\n",
      "iteration:3000\t loss:0.497676\n",
      "iteration:4000\t loss:0.497628\n",
      "iteration:5000\t loss:0.497591\n",
      "iteration:6000\t loss:0.497561\n",
      "iteration:7000\t loss:0.497536\n",
      "iteration:8000\t loss:0.497514\n",
      "iteration:9000\t loss:0.497495\n",
      "iteration:10000\t loss:0.497479\n"
     ]
    },
    {
     "data": {
      "text/plain": [
       "(0.001081270188471948, 0.9949572264623799)"
      ]
     },
     "execution_count": 7,
     "metadata": {},
     "output_type": "execute_result"
    }
   ],
   "source": [
    "LR = LinearRegression()\n",
    "LR.fit(X_train, Y_train, verbose=True, max_iters=10000, lr=1e-2, print_freq=1000, tol=1e-8)\n",
    "LR.R2_score(X_train, Y_train), LR.MSE(X_train, Y_train)"
   ]
  },
  {
   "cell_type": "code",
   "execution_count": 8,
   "metadata": {},
   "outputs": [],
   "source": [
    "def accuracy1(preds, y):\n",
    "    SSE = np.sum(np.square(y - preds))\n",
    "    SST = np.sum(np.square(y - np.mean(y)))\n",
    "    return 1 - (SSE/SST)\n",
    "\n",
    "def accuracy2(preds, y):\n",
    "    SSR = np.sum(np.square(preds - np.mean(y)))\n",
    "    SST = np.sum(np.square(y - np.mean(y)))\n",
    "    return (SSR/SST)"
   ]
  },
  {
   "cell_type": "code",
   "execution_count": 9,
   "metadata": {},
   "outputs": [
    {
     "data": {
      "image/png": "[encoded data removed]",
      "text/plain": [
       "<Figure size 1080x360 with 2 Axes>"
      ]
     },
     "metadata": {
      "needs_background": "light"
     },
     "output_type": "display_data"
    },
    {
     "name": "stdout",
     "output_type": "stream",
     "text": [
      "R2_1\tR2_2\tMSE\tmean_MSE\n",
      "0.00504277353762006 0.001081270188471948 0.0024602355518665987 0.0024893746256910315\n",
      "0.0002918436322667528 0.0007890056975259858 0.002041210160276727 0.0020580229587582313\n"
     ]
    }
   ],
   "source": [
    "# inverse normalized\n",
    "train_pre = LR.predict(X_train)\n",
    "test_pre = LR.predict(X_test)\n",
    "\n",
    "train_pre = Y_train_scaler.inverse_transform(train_pre)\n",
    "yytrain = Y_train_scaler.inverse_transform(Y_train)\n",
    "test_pre = Y_test_scaler.inverse_transform(test_pre)\n",
    "yytest = Y_test_scaler.inverse_transform(Y_test)\n",
    "\n",
    "# plot prediction and true values\n",
    "#进行绘图\n",
    "plt.figure(figsize=(15,5))\n",
    "plt.subplot(121)\n",
    "plt.plot(yytrain)\n",
    "plt.plot(train_pre)\n",
    "plt.xlabel('days')\n",
    "plt.ylabel('BTC_Return')\n",
    "plt.legend(['observed', 'pred'])\n",
    "plt.title('Train')\n",
    "plt.subplot(122)\n",
    "plt.plot(yytest)\n",
    "plt.plot(test_pre)\n",
    "plt.xlabel('days')\n",
    "plt.ylabel('BTC_Return')\n",
    "plt.legend(['observed', 'pred'])\n",
    "plt.title('Test')\n",
    "plt.show()\n",
    "\n",
    "from sklearn.metrics import r2_score, mean_squared_error\n",
    "print(\"R2_1\\tR2_2\\tMSE\\tmean_MSE\")\n",
    "print(accuracy1(train_pre, yytrain), accuracy2(train_pre, yytrain), mean_squared_error(train_pre, yytrain), mean_squared_error(np.zeros([yytrain.shape[0], 1]), yytrain))\n",
    "print(accuracy1(test_pre, yytest), accuracy2(test_pre, yytest), mean_squared_error(test_pre, yytest), mean_squared_error(np.zeros([yytest.shape[0], 1]), yytest))"
   ]
  },
  {
   "cell_type": "code",
   "execution_count": 10,
   "metadata": {},
   "outputs": [
    {
     "data": {
      "image/png": "[encoded data removed]",
      "text/plain": [
       "<Figure size 432x288 with 1 Axes>"
      ]
     },
     "metadata": {
      "needs_background": "light"
     },
     "output_type": "display_data"
    },
    {
     "data": {
      "text/plain": [
       "(-1266.0480827989309, 0.0018798267040038813)"
      ]
     },
     "execution_count": 10,
     "metadata": {},
     "output_type": "execute_result"
    }
   ],
   "source": [
    "from sklearn.metrics import r2_score\n",
    "# inverse normalized\n",
    "pre = LR.predict(X_test)\n",
    "predY = Y_test_scaler.inverse_transform(pre)\n",
    "yytest = Y_test_scaler.inverse_transform(Y_test)\n",
    "# plot prediction and true values\n",
    "plt.plot(predY[-50:])\n",
    "plt.plot(yytest[-50:])\n",
    "plt.xlabel('date')\n",
    "plt.ylabel('BTC_Price')\n",
    "plt.legend(['pred','observed'])\n",
    "plt.show()\n",
    "from sklearn.metrics import mean_squared_error, r2_score\n",
    "r2_score(predY, yytest), mean_squared_error(predY[-352:], yytest[-352:])"
   ]
  },
  {
   "cell_type": "code",
   "execution_count": 11,
   "metadata": {},
   "outputs": [
    {
     "data": {
      "text/plain": [
       "array([-7.56405285e-06,  1.89077836e-04,  1.66501068e-04,  2.70055165e-04,\n",
       "        2.70055165e-04, -1.38567754e-04, -1.32903137e-04,  4.86418915e-05,\n",
       "       -7.72482439e-05, -4.94279121e-05,  2.06365632e-03,  1.83926198e-03,\n",
       "        2.33238605e-03,  2.18755981e-03,  2.18755981e-03,  2.06365632e-03,\n",
       "        1.83926198e-03,  2.33238605e-03,  2.18755981e-03,  2.18755981e-03,\n",
       "       -6.66741603e-04, -6.91971754e-04, -6.24460211e-04, -6.01525687e-04,\n",
       "       -5.62046311e-04, -1.61025246e-03, -1.53682769e-03, -1.76677619e-03,\n",
       "       -1.64005730e-03, -1.64005730e-03, -1.35206280e-04, -2.01700714e-04,\n",
       "       -7.61664309e-05, -1.33694715e-04, -1.33694715e-04, -6.65087553e-04,\n",
       "       -5.82789669e-04, -5.42758728e-04, -4.54534734e-04, -2.74355383e-04,\n",
       "       -3.38346069e-03, -2.61404045e-03, -4.23675432e-03, -3.57323693e-03,\n",
       "       -3.57323693e-03, -1.63258238e-03, -1.54485649e-03, -1.62435935e-03,\n",
       "       -1.65513250e-03, -1.65513250e-03, -2.11799936e-03,  3.32327611e-03,\n",
       "        5.14977891e-04, -1.50349688e-03, -2.77875650e-03,  2.80535225e-03,\n",
       "       -4.51733884e-03,  2.80535225e-03, -4.51733884e-03,  1.42612635e-03,\n",
       "       -3.62467796e-03, -8.68290892e-04,  4.15036260e-03, -1.82611196e-04,\n",
       "       -3.69948990e-03,  2.76826923e-03, -1.09697275e-03, -1.03172950e-03,\n",
       "        1.68310735e-03, -2.24080916e-03,  1.50134006e-03])"
      ]
     },
     "execution_count": 11,
     "metadata": {},
     "output_type": "execute_result"
    }
   ],
   "source": [
    "# dy / dx\n",
    "import copy\n",
    "delta_x = 1e-5\n",
    "dy = np.zeros([X_test.shape[0], X_test.shape[-1]//time_step])\n",
    "for i in range(X_test.shape[-1]//time_step):\n",
    "    new_X_test = copy.deepcopy(X_test)\n",
    "    for j in range(time_step):\n",
    "        new_X_test[:, n_features*j+i] += delta_x\n",
    "    y0 = LR.predict(X_test)\n",
    "    y1 = LR.predict(new_X_test)\n",
    "    dy[:, i] = ((y1 - y0) / delta_x).reshape(-1)\n",
    "dy.mean(axis=0)"
   ]
  },
  {
   "cell_type": "code",
   "execution_count": 15,
   "metadata": {},
   "outputs": [
    {
     "data": {
      "text/html": [
       "<div>\n",
       "<style scoped>\n",
       "    .dataframe tbody tr th:only-of-type {\n",
       "        vertical-align: middle;\n",
       "    }\n",
       "\n",
       "    .dataframe tbody tr th {\n",
       "        vertical-align: top;\n",
       "    }\n",
       "\n",
       "    .dataframe thead th {\n",
       "        text-align: right;\n",
       "    }\n",
       "</style>\n",
       "<table border=\"1\" class=\"dataframe\">\n",
       "  <thead>\n",
       "    <tr style=\"text-align: right;\">\n",
       "      <th></th>\n",
       "      <th>variable</th>\n",
       "      <th>coefficient</th>\n",
       "      <th>abs_coefficient</th>\n",
       "    </tr>\n",
       "  </thead>\n",
       "  <tbody>\n",
       "    <tr>\n",
       "      <th>0</th>\n",
       "      <td>Silver_volatility</td>\n",
       "      <td>-0.004517</td>\n",
       "      <td>0.004517</td>\n",
       "    </tr>\n",
       "    <tr>\n",
       "      <th>1</th>\n",
       "      <td>GoldUSD_volatility</td>\n",
       "      <td>-0.004517</td>\n",
       "      <td>0.004517</td>\n",
       "    </tr>\n",
       "    <tr>\n",
       "      <th>2</th>\n",
       "      <td>VIX_Low</td>\n",
       "      <td>-0.004237</td>\n",
       "      <td>0.004237</td>\n",
       "    </tr>\n",
       "    <tr>\n",
       "      <th>3</th>\n",
       "      <td>DJCI_volatility</td>\n",
       "      <td>0.004150</td>\n",
       "      <td>0.004150</td>\n",
       "    </tr>\n",
       "    <tr>\n",
       "      <th>4</th>\n",
       "      <td>CrudeOil_volatility</td>\n",
       "      <td>-0.003699</td>\n",
       "      <td>0.003699</td>\n",
       "    </tr>\n",
       "    <tr>\n",
       "      <th>5</th>\n",
       "      <td>DBCCommodity_volatility</td>\n",
       "      <td>-0.003625</td>\n",
       "      <td>0.003625</td>\n",
       "    </tr>\n",
       "    <tr>\n",
       "      <th>6</th>\n",
       "      <td>VIX_AdjClose</td>\n",
       "      <td>-0.003573</td>\n",
       "      <td>0.003573</td>\n",
       "    </tr>\n",
       "    <tr>\n",
       "      <th>7</th>\n",
       "      <td>VIX_Close</td>\n",
       "      <td>-0.003573</td>\n",
       "      <td>0.003573</td>\n",
       "    </tr>\n",
       "    <tr>\n",
       "      <th>8</th>\n",
       "      <td>VIX_Open</td>\n",
       "      <td>-0.003383</td>\n",
       "      <td>0.003383</td>\n",
       "    </tr>\n",
       "    <tr>\n",
       "      <th>9</th>\n",
       "      <td>DXYUSD_Return</td>\n",
       "      <td>0.003323</td>\n",
       "      <td>0.003323</td>\n",
       "    </tr>\n",
       "    <tr>\n",
       "      <th>10</th>\n",
       "      <td>Silver_Return</td>\n",
       "      <td>0.002805</td>\n",
       "      <td>0.002805</td>\n",
       "    </tr>\n",
       "    <tr>\n",
       "      <th>11</th>\n",
       "      <td>GoldUSD_Return</td>\n",
       "      <td>0.002805</td>\n",
       "      <td>0.002805</td>\n",
       "    </tr>\n",
       "    <tr>\n",
       "      <th>12</th>\n",
       "      <td>World_Index_volatility</td>\n",
       "      <td>-0.002779</td>\n",
       "      <td>0.002779</td>\n",
       "    </tr>\n",
       "    <tr>\n",
       "      <th>13</th>\n",
       "      <td>SPY_Return</td>\n",
       "      <td>0.002768</td>\n",
       "      <td>0.002768</td>\n",
       "    </tr>\n",
       "    <tr>\n",
       "      <th>14</th>\n",
       "      <td>VIX_High</td>\n",
       "      <td>-0.002614</td>\n",
       "      <td>0.002614</td>\n",
       "    </tr>\n",
       "    <tr>\n",
       "      <th>15</th>\n",
       "      <td>Silver_Low</td>\n",
       "      <td>0.002332</td>\n",
       "      <td>0.002332</td>\n",
       "    </tr>\n",
       "    <tr>\n",
       "      <th>16</th>\n",
       "      <td>GoldUSD_Low</td>\n",
       "      <td>0.002332</td>\n",
       "      <td>0.002332</td>\n",
       "    </tr>\n",
       "    <tr>\n",
       "      <th>17</th>\n",
       "      <td>TNXTbill_Return</td>\n",
       "      <td>-0.002241</td>\n",
       "      <td>0.002241</td>\n",
       "    </tr>\n",
       "    <tr>\n",
       "      <th>18</th>\n",
       "      <td>GoldUSD_Close</td>\n",
       "      <td>0.002188</td>\n",
       "      <td>0.002188</td>\n",
       "    </tr>\n",
       "    <tr>\n",
       "      <th>19</th>\n",
       "      <td>Silver_AdjClose</td>\n",
       "      <td>0.002188</td>\n",
       "      <td>0.002188</td>\n",
       "    </tr>\n",
       "  </tbody>\n",
       "</table>\n",
       "</div>"
      ],
      "text/plain": [
       "                   variable  coefficient  abs_coefficient\n",
       "0         Silver_volatility    -0.004517         0.004517\n",
       "1        GoldUSD_volatility    -0.004517         0.004517\n",
       "2                   VIX_Low    -0.004237         0.004237\n",
       "3           DJCI_volatility     0.004150         0.004150\n",
       "4       CrudeOil_volatility    -0.003699         0.003699\n",
       "5   DBCCommodity_volatility    -0.003625         0.003625\n",
       "6              VIX_AdjClose    -0.003573         0.003573\n",
       "7                 VIX_Close    -0.003573         0.003573\n",
       "8                  VIX_Open    -0.003383         0.003383\n",
       "9             DXYUSD_Return     0.003323         0.003323\n",
       "10            Silver_Return     0.002805         0.002805\n",
       "11           GoldUSD_Return     0.002805         0.002805\n",
       "12   World_Index_volatility    -0.002779         0.002779\n",
       "13               SPY_Return     0.002768         0.002768\n",
       "14                 VIX_High    -0.002614         0.002614\n",
       "15               Silver_Low     0.002332         0.002332\n",
       "16              GoldUSD_Low     0.002332         0.002332\n",
       "17          TNXTbill_Return    -0.002241         0.002241\n",
       "18            GoldUSD_Close     0.002188         0.002188\n",
       "19          Silver_AdjClose     0.002188         0.002188"
      ]
     },
     "execution_count": 15,
     "metadata": {},
     "output_type": "execute_result"
    }
   ],
   "source": [
    "df_coef = pd.DataFrame(columns=['variable', 'coefficient'])\n",
    "df_coef['variable'] = df.columns[:-1]\n",
    "df_coef['coefficient'] = dy.mean(axis=0)\n",
    "df_coef['class'] = df_coef['variable'].apply(lambda x:x.split('_')[0])\n",
    "df_coef['abs_coefficient'] = df_coef['coefficient'].abs()\n",
    "# sort by absolute value of coefficient\n",
    "# pd.set_option('display.max_rows',None)\n",
    "df_agg_coef = df_coef.groupby(by='class').sum()\n",
    "df_agg_coef = df_agg_coef.reset_index()\n",
    "df_coef[['variable', 'abs_coefficient']].sort_values(by='abs_coefficient', ascending=False)[:15]\n",
    "# df_coef\n",
    "df_agg_coef.sort_values(by='abs_coefficient', ascending=False)[:15].reset_index(drop=True)\n",
    "df_coef.sort_values(by='abs_coefficient', ascending=False)[:20].reset_index(drop=True)[['variable', 'coefficient', 'abs_coefficient']]"
   ]
  },
  {
   "cell_type": "code",
   "execution_count": 8,
   "metadata": {},
   "outputs": [
    {
     "data": {
      "text/plain": [
       "{'LR_0': {'Describe': 'Only price inforamtion was used to pridict return with timestep 100',\n",
       "  'Variables': Index(['DXYUSD_Open', 'DXYUSD_High', 'DXYUSD_Low', 'DXYUSD_Close',\n",
       "         'DXYUSD_AdjClose', 'World_Index_Open', 'World_Index_High',\n",
       "         'World_Index_Low', 'World_Index_Close', 'World_Index_AdjClose',\n",
       "         'GoldUSD_Open', 'GoldUSD_High', 'GoldUSD_Low', 'GoldUSD_Close',\n",
       "         'GoldUSD_AdjClose', 'Silver_Open', 'Silver_High', 'Silver_Low',\n",
       "         'Silver_Close', 'Silver_AdjClose', 'DBCCommodity_Open',\n",
       "         'DBCCommodity_High', 'DBCCommodity_Low', 'DBCCommodity_Close',\n",
       "         'DBCCommodity_AdjClose', 'DJCI_Open', 'DJCI_High', 'DJCI_Low',\n",
       "         'DJCI_Close', 'DJCI_AdjClose', 'CrudeOil_Open', 'CrudeOil_High',\n",
       "         'CrudeOil_Low', 'CrudeOil_Close', 'CrudeOil_AdjClose', 'SPY_Open',\n",
       "         'SPY_High', 'SPY_Low', 'SPY_Close', 'SPY_AdjClose', 'VIX_Open',\n",
       "         'VIX_High', 'VIX_Low', 'VIX_Close', 'VIX_AdjClose', 'TNXTbill_Open',\n",
       "         'TNXTbill_High', 'TNXTbill_Low', 'TNXTbill_Close', 'TNXTbill_AdjClose',\n",
       "         'sentiment'],\n",
       "        dtype='object'),\n",
       "  'Model_Parameters': {'lr': 0.01,\n",
       "   'L2': 0.01,\n",
       "   'epochs': 100000,\n",
       "   'tolerance': 1e-08},\n",
       "  'R2score': {'accuracy1': [0.05878200601983807, -0.092666371095391],\n",
       "   'accuracy2': [0.02586871886321327, 0.07087870180756826]},\n",
       "  'Timestep': 100,\n",
       "  'MeanSquaredError': [0.002299050367839105, 0.001973485175408241],\n",
       "  'Coefficient': array([ 0.02092183,  0.02738923,  0.0226791 ,  0.02384446,  0.02384446,\n",
       "         -0.01782756, -0.01257316, -0.01839984, -0.01630536,  0.00807896,\n",
       "          0.01245316,  0.01768612,  0.00575221,  0.0133064 ,  0.0133064 ,\n",
       "          0.01245316,  0.01768612,  0.00575221,  0.0133064 ,  0.0133064 ,\n",
       "         -0.00266475, -0.00297778, -0.00312922, -0.00274467,  0.00141422,\n",
       "         -0.00581775, -0.00788266, -0.0046068 , -0.00693539, -0.00693539,\n",
       "         -0.00374819, -0.00186112, -0.00725205, -0.00306605, -0.00306605,\n",
       "         -0.01696206, -0.017469  , -0.01678795, -0.01698214, -0.00124202,\n",
       "         -0.00243852,  0.00385507, -0.00249847, -0.0060944 , -0.0060944 ,\n",
       "          0.01650329,  0.02013557,  0.01198512,  0.01582332,  0.01582332,\n",
       "          0.07916092])},\n",
       " 'LR_1': {'Describe': 'Only price inforamtion was used to pridict return with timestep 20',\n",
       "  'Variables': Index(['DXYUSD_Open', 'DXYUSD_High', 'DXYUSD_Low', 'DXYUSD_Close',\n",
       "         'DXYUSD_AdjClose', 'World_Index_Open', 'World_Index_High',\n",
       "         'World_Index_Low', 'World_Index_Close', 'World_Index_AdjClose',\n",
       "         'GoldUSD_Open', 'GoldUSD_High', 'GoldUSD_Low', 'GoldUSD_Close',\n",
       "         'GoldUSD_AdjClose', 'Silver_Open', 'Silver_High', 'Silver_Low',\n",
       "         'Silver_Close', 'Silver_AdjClose', 'DBCCommodity_Open',\n",
       "         'DBCCommodity_High', 'DBCCommodity_Low', 'DBCCommodity_Close',\n",
       "         'DBCCommodity_AdjClose', 'DJCI_Open', 'DJCI_High', 'DJCI_Low',\n",
       "         'DJCI_Close', 'DJCI_AdjClose', 'CrudeOil_Open', 'CrudeOil_High',\n",
       "         'CrudeOil_Low', 'CrudeOil_Close', 'CrudeOil_AdjClose', 'SPY_Open',\n",
       "         'SPY_High', 'SPY_Low', 'SPY_Close', 'SPY_AdjClose', 'VIX_Open',\n",
       "         'VIX_High', 'VIX_Low', 'VIX_Close', 'VIX_AdjClose', 'TNXTbill_Open',\n",
       "         'TNXTbill_High', 'TNXTbill_Low', 'TNXTbill_Close', 'TNXTbill_AdjClose',\n",
       "         'sentiment'],\n",
       "        dtype='object'),\n",
       "  'Model_Parameters': {'lr': 0.01,\n",
       "   'L2': 0.01,\n",
       "   'epochs': 100000,\n",
       "   'tolerance': 1e-08},\n",
       "  'R2score': {'accuracy1': [0.010435616161821093, -0.0004554890872612294],\n",
       "   'accuracy2': [0.004973673545391146, 0.008347343963835449]},\n",
       "  'Timestep': 20,\n",
       "  'MeanSquaredError': [0.002384690699141652, 0.0018533196083830412],\n",
       "  'Coefficient': array([-0.00556769, -0.00577224, -0.00392085, -0.00525673, -0.00525673,\n",
       "         -0.00324318, -0.00280667, -0.00250317, -0.00217982,  0.00074221,\n",
       "          0.00384748,  0.00310971,  0.00759724,  0.00650746,  0.00650746,\n",
       "          0.00384748,  0.00310971,  0.00759724,  0.00650746,  0.00650746,\n",
       "         -0.0065891 , -0.00675543, -0.00598025, -0.00590172, -0.00447691,\n",
       "         -0.02050351, -0.02117404, -0.02042412, -0.02042518, -0.02042518,\n",
       "          0.00203738,  0.00180633,  0.00316497,  0.00272246,  0.00272246,\n",
       "         -0.01064573, -0.01093006, -0.01004178, -0.00997182, -0.00345924,\n",
       "         -0.01032317, -0.00816704, -0.01167637, -0.01311165, -0.01311165,\n",
       "          0.00461228,  0.00381751,  0.0053949 ,  0.00442933,  0.00442933,\n",
       "         -0.00171312])}}"
      ]
     },
     "execution_count": 8,
     "metadata": {},
     "output_type": "execute_result"
    }
   ],
   "source": [
    "# # save to res\n",
    "# # load result\n",
    "if os.path.exists('./result/LRmodel_result.pkl'):\n",
    "    res = pickle.load(open('./result/LRmodel_result.pkl', 'rb'))\n",
    "else:\n",
    "    res = {}\n",
    "# # res = {}\n",
    "# info = {}\n",
    "# info['Describe'] = 'Only price inforamtion was used to pridict return with timestep 20'\n",
    "# info['Variables'] = df.columns[:-1]\n",
    "# info['Model_Parameters'] = {'lr':LR.learningrate, 'L2':LR.lambd, 'epochs':LR.epochs, 'tolerance':LR.tol}\n",
    "# info['R2score'] = {'accuracy1':[accuracy1(train_pre, yytrain), accuracy1(test_pre, yytest)], \n",
    "#                    'accuracy2':[accuracy2(train_pre, yytrain), accuracy2(test_pre, yytest)]}\n",
    "# info['Timestep'] = time_step\n",
    "# info['MeanSquaredError'] = [mean_squared_error(train_pre, yytrain), mean_squared_error(test_pre, yytest)]\n",
    "# info['Coefficient'] = dy.mean(axis=0)\n",
    "# res['LR_'+str(len(res))] = info\n",
    "# # save result\n",
    "# with open('./result/LRmodel_result.pkl', 'wb') as f:\n",
    "#     pickle.dump(res, f)\n",
    "res"
   ]
  },
  {
   "cell_type": "markdown",
   "metadata": {},
   "source": [
    "## Other machine learning methods"
   ]
  },
  {
   "cell_type": "code",
   "execution_count": null,
   "metadata": {},
   "outputs": [],
   "source": [
    "from sklearn.ensemble import RandomForestRegressor\n",
    "clf = RandomForestRegressor()\n",
    "clf.fit(X_train,Y_train.ravel())\n",
    "clf.score(X_test,Y_test)"
   ]
  },
  {
   "cell_type": "code",
   "execution_count": null,
   "metadata": {},
   "outputs": [],
   "source": [
    "pred = clf.predict(X_test)\n",
    "MSE(Y_test, pred)"
   ]
  },
  {
   "cell_type": "code",
   "execution_count": null,
   "metadata": {},
   "outputs": [],
   "source": [
    "pred = clf.predict(X_train)\n",
    "MSE(Y_train, pred)"
   ]
  },
  {
   "cell_type": "code",
   "execution_count": null,
   "metadata": {},
   "outputs": [],
   "source": [
    "clf.feature_importances_"
   ]
  },
  {
   "cell_type": "code",
   "execution_count": null,
   "metadata": {},
   "outputs": [],
   "source": [
    "df_import = pd.DataFrame(df_input.columns)\n",
    "rank = np.zeros(len(clf.feature_importances_))\n",
    "for i, ind in enumerate(np.argsort(clf.feature_importances_)):\n",
    "    rank[ind] = int(len(clf.feature_importances_) - i)\n",
    "    \n",
    "df_import['RandomForestRegressor'] = rank\n",
    "df_import['RandomForestRegressor'] = df_import['RandomForestRegressor'].astype('int64')\n",
    "df_import"
   ]
  },
  {
   "cell_type": "code",
   "execution_count": null,
   "metadata": {},
   "outputs": [],
   "source": [
    "from sklearn.tree import DecisionTreeRegressor\n",
    "DTR = DecisionTreeRegressor()\n",
    "DTR.fit(X_train, Y_train)\n",
    "DTR.score(X_test,Y_test)"
   ]
  },
  {
   "cell_type": "code",
   "execution_count": null,
   "metadata": {},
   "outputs": [],
   "source": [
    "pred = DTR.predict(X_test)\n",
    "MSE(Y_test, pred)"
   ]
  },
  {
   "cell_type": "code",
   "execution_count": null,
   "metadata": {},
   "outputs": [],
   "source": [
    "rank = np.zeros(len(clf.feature_importances_))\n",
    "for i, ind in enumerate(np.argsort(DTR.feature_importances_)):\n",
    "    rank[ind] = int(len(DTR.feature_importances_) - i)\n",
    "    \n",
    "df_import['DecisionTreeRegressor'] = rank\n",
    "df_import['DecisionTreeRegressor'] = df_import['DecisionTreeRegressor'].astype('int64')\n",
    "df_import"
   ]
  },
  {
   "cell_type": "code",
   "execution_count": null,
   "metadata": {},
   "outputs": [],
   "source": [
    "from sklearn.svm import LinearSVR\n",
    "SVR = LinearSVR()\n",
    "SVR.fit(X_train, Y_train.ravel())\n",
    "SVR.score(X_test,Y_test)"
   ]
  },
  {
   "cell_type": "code",
   "execution_count": null,
   "metadata": {},
   "outputs": [],
   "source": [
    "pred = SVR.predict(X_test)\n",
    "MSE(Y_test, pred)"
   ]
  },
  {
   "cell_type": "code",
   "execution_count": null,
   "metadata": {},
   "outputs": [],
   "source": [
    "rank = np.zeros(len(SVR.coef_))\n",
    "for i, ind in enumerate(np.argsort(SVR.coef_)):\n",
    "    rank[ind] = int(len(SVR.coef_) - i)\n",
    "    \n",
    "df_import['LinearSVR'] = rank\n",
    "df_import['LinearSVR'] = df_import['LinearSVR'].astype('int64')\n",
    "df_import"
   ]
  },
  {
   "cell_type": "code",
   "execution_count": null,
   "metadata": {},
   "outputs": [],
   "source": [
    "df_import['sum'] = df_import['RandomForestRegressor'] + df_import['DecisionTreeRegressor'] + df_import['LinearSVR']"
   ]
  },
  {
   "cell_type": "code",
   "execution_count": null,
   "metadata": {},
   "outputs": [],
   "source": [
    "df_import.sort_values(by=['sum'])"
   ]
  },
  {
   "cell_type": "code",
   "execution_count": null,
   "metadata": {},
   "outputs": [],
   "source": [
    "from sklearn. import "
   ]
  }
 ],
 "metadata": {
  "kernelspec": {
   "display_name": "anaconda",
   "language": "python",
   "name": "anaconda"
  },
  "language_info": {
   "codemirror_mode": {
    "name": "ipython",
    "version": 3
   },
   "file_extension": ".py",
   "mimetype": "text/x-python",
   "name": "python",
   "nbconvert_exporter": "python",
   "pygments_lexer": "ipython3",
   "version": "3.8.3"
  }
 },
 "nbformat": 4,
 "nbformat_minor": 5
}
