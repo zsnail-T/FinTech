{
 "cells": [
  {
   "cell_type": "code",
   "execution_count": 44,
   "metadata": {},
   "outputs": [],
   "source": [
    "from model.LinearModel import LinearRegression\n",
    "import pandas as pd\n",
    "from sklearn.metrics import mean_squared_error as MSE\n",
    "from sklearn.model_selection import train_test_split\n",
    "from sklearn.metrics import r2_score\n",
    "from sklearn.preprocessing import StandardScaler\n",
    "import numpy as np"
   ]
  },
  {
   "cell_type": "code",
   "execution_count": 2,
   "metadata": {},
   "outputs": [
    {
     "data": {
      "text/html": [
       "<div>\n",
       "<style scoped>\n",
       "    .dataframe tbody tr th:only-of-type {\n",
       "        vertical-align: middle;\n",
       "    }\n",
       "\n",
       "    .dataframe tbody tr th {\n",
       "        vertical-align: top;\n",
       "    }\n",
       "\n",
       "    .dataframe thead th {\n",
       "        text-align: right;\n",
       "    }\n",
       "</style>\n",
       "<table border=\"1\" class=\"dataframe\">\n",
       "  <thead>\n",
       "    <tr style=\"text-align: right;\">\n",
       "      <th></th>\n",
       "      <th>Sentiment_24h</th>\n",
       "      <th>DXYUSD_Gain_Rate</th>\n",
       "      <th>World_Index_Gain_Rate</th>\n",
       "      <th>GoldUSD_Gain_Rate</th>\n",
       "      <th>Silver_Gain_Rate</th>\n",
       "      <th>DBCCommodity_Gain_Rate</th>\n",
       "      <th>DJCI_Gain_Rate</th>\n",
       "      <th>CrudeOil_Gain_Rate</th>\n",
       "      <th>SPY_Gain_Rate</th>\n",
       "      <th>VIX_Gain_Rate</th>\n",
       "      <th>TNXTbill_Gain_Rate</th>\n",
       "      <th>BTC_Price</th>\n",
       "    </tr>\n",
       "  </thead>\n",
       "  <tbody>\n",
       "    <tr>\n",
       "      <th>0</th>\n",
       "      <td>0.188838</td>\n",
       "      <td>0.001341</td>\n",
       "      <td>0.003931</td>\n",
       "      <td>0.006341</td>\n",
       "      <td>0.006341</td>\n",
       "      <td>0.008765</td>\n",
       "      <td>0.019090</td>\n",
       "      <td>0.019418</td>\n",
       "      <td>0.003971</td>\n",
       "      <td>-0.000729</td>\n",
       "      <td>0.003007</td>\n",
       "      <td>117.00</td>\n",
       "    </tr>\n",
       "    <tr>\n",
       "      <th>1</th>\n",
       "      <td>0.169673</td>\n",
       "      <td>-0.005234</td>\n",
       "      <td>0.007311</td>\n",
       "      <td>-0.014732</td>\n",
       "      <td>-0.014732</td>\n",
       "      <td>-0.007181</td>\n",
       "      <td>-0.001202</td>\n",
       "      <td>-0.010167</td>\n",
       "      <td>0.002574</td>\n",
       "      <td>-0.013858</td>\n",
       "      <td>0.014537</td>\n",
       "      <td>103.43</td>\n",
       "    </tr>\n",
       "    <tr>\n",
       "      <th>2</th>\n",
       "      <td>0.131704</td>\n",
       "      <td>-0.000857</td>\n",
       "      <td>0.000000</td>\n",
       "      <td>-0.038969</td>\n",
       "      <td>-0.038969</td>\n",
       "      <td>-0.000387</td>\n",
       "      <td>-0.002442</td>\n",
       "      <td>-0.022024</td>\n",
       "      <td>-0.006590</td>\n",
       "      <td>0.043948</td>\n",
       "      <td>-0.011460</td>\n",
       "      <td>91.01</td>\n",
       "    </tr>\n",
       "    <tr>\n",
       "      <th>3</th>\n",
       "      <td>0.128927</td>\n",
       "      <td>0.007229</td>\n",
       "      <td>0.004812</td>\n",
       "      <td>0.009762</td>\n",
       "      <td>0.009762</td>\n",
       "      <td>0.008491</td>\n",
       "      <td>0.029350</td>\n",
       "      <td>0.032857</td>\n",
       "      <td>0.006743</td>\n",
       "      <td>-0.061464</td>\n",
       "      <td>-0.007304</td>\n",
       "      <td>118.33</td>\n",
       "    </tr>\n",
       "    <tr>\n",
       "      <th>4</th>\n",
       "      <td>0.157061</td>\n",
       "      <td>-0.001460</td>\n",
       "      <td>-0.012230</td>\n",
       "      <td>0.009474</td>\n",
       "      <td>0.009474</td>\n",
       "      <td>0.001896</td>\n",
       "      <td>-0.000804</td>\n",
       "      <td>0.017236</td>\n",
       "      <td>0.001427</td>\n",
       "      <td>-0.005418</td>\n",
       "      <td>0.076829</td>\n",
       "      <td>106.40</td>\n",
       "    </tr>\n",
       "  </tbody>\n",
       "</table>\n",
       "</div>"
      ],
      "text/plain": [
       "   Sentiment_24h  DXYUSD_Gain_Rate  World_Index_Gain_Rate  GoldUSD_Gain_Rate  \\\n",
       "0       0.188838          0.001341               0.003931           0.006341   \n",
       "1       0.169673         -0.005234               0.007311          -0.014732   \n",
       "2       0.131704         -0.000857               0.000000          -0.038969   \n",
       "3       0.128927          0.007229               0.004812           0.009762   \n",
       "4       0.157061         -0.001460              -0.012230           0.009474   \n",
       "\n",
       "   Silver_Gain_Rate  DBCCommodity_Gain_Rate  DJCI_Gain_Rate  \\\n",
       "0          0.006341                0.008765        0.019090   \n",
       "1         -0.014732               -0.007181       -0.001202   \n",
       "2         -0.038969               -0.000387       -0.002442   \n",
       "3          0.009762                0.008491        0.029350   \n",
       "4          0.009474                0.001896       -0.000804   \n",
       "\n",
       "   CrudeOil_Gain_Rate  SPY_Gain_Rate  VIX_Gain_Rate  TNXTbill_Gain_Rate  \\\n",
       "0            0.019418       0.003971      -0.000729            0.003007   \n",
       "1           -0.010167       0.002574      -0.013858            0.014537   \n",
       "2           -0.022024      -0.006590       0.043948           -0.011460   \n",
       "3            0.032857       0.006743      -0.061464           -0.007304   \n",
       "4            0.017236       0.001427      -0.005418            0.076829   \n",
       "\n",
       "   BTC_Price  \n",
       "0     117.00  \n",
       "1     103.43  \n",
       "2      91.01  \n",
       "3     118.33  \n",
       "4     106.40  "
      ]
     },
     "execution_count": 2,
     "metadata": {},
     "output_type": "execute_result"
    }
   ],
   "source": [
    "# load FinTech data\n",
    "df = pd.read_csv('./data/FinTech.csv', encoding='utf-8')\n",
    "df.head()"
   ]
  },
  {
   "cell_type": "code",
   "execution_count": 3,
   "metadata": {},
   "outputs": [
    {
     "data": {
      "text/plain": [
       "((1912, 11), (1912, 1))"
      ]
     },
     "execution_count": 3,
     "metadata": {},
     "output_type": "execute_result"
    }
   ],
   "source": [
    "# Divide the data set into inputs and outputs\n",
    "# df_input = df.drop(['Return'], axis=1)\n",
    "# df_ouput = df[['Return']]\n",
    "# df_input.shape, df_ouput.shape\n",
    "\n",
    "df_input = df.drop(['BTC_Price'], axis=1)\n",
    "df_ouput = df[['BTC_Price']]\n",
    "df_input.shape, df_ouput.shape"
   ]
  },
  {
   "cell_type": "code",
   "execution_count": 6,
   "metadata": {},
   "outputs": [
    {
     "data": {
      "text/plain": [
       "((1434, 11), (1434, 1), (478, 11), (478, 1))"
      ]
     },
     "execution_count": 6,
     "metadata": {},
     "output_type": "execute_result"
    }
   ],
   "source": [
    "# 75% data is the train set, and 25% test set\n",
    "X_train, X_test, Y_train, Y_test = train_test_split(df_input.values, df_ouput.values.reshape(-1,1), test_size=0.25, random_state=1)\n",
    "X_train.shape, Y_train.shape, X_test.shape, Y_test.shape"
   ]
  },
  {
   "cell_type": "code",
   "execution_count": 137,
   "metadata": {},
   "outputs": [],
   "source": [
    "# # using all examples for training\n",
    "# X_train, Y_train = df_input.values, df_ouput.values\n",
    "# X_test = copy.deepcopy(X_train)\n",
    "# Y_test = copy.deepcopy(Y_train)"
   ]
  },
  {
   "cell_type": "code",
   "execution_count": 9,
   "metadata": {},
   "outputs": [
    {
     "data": {
      "text/plain": [
       "((1434, 11), (1434, 1), (478, 11), (478, 1))"
      ]
     },
     "execution_count": 9,
     "metadata": {},
     "output_type": "execute_result"
    }
   ],
   "source": [
    "# Normalized data\n",
    "X_scaler = StandardScaler()\n",
    "Y_scaler = StandardScaler()\n",
    "X_scaler = X_scaler.fit(X_train)\n",
    "X_train = X_scaler.transform(X_train)\n",
    "X_test = X_scaler.transform(X_test)\n",
    "\n",
    "Y_scaler = Y_scaler.fit(Y_train)\n",
    "Y_train = Y_scaler.transform(Y_train)\n",
    "Y_test = Y_scaler.transform(Y_test)\n",
    "X_train.shape, Y_train.shape, X_test.shape, Y_test.shape"
   ]
  },
  {
   "cell_type": "code",
   "execution_count": 10,
   "metadata": {},
   "outputs": [
    {
     "data": {
      "text/plain": [
       "(-9.414443500308161e-17, 0.9999999999999999)"
      ]
     },
     "execution_count": 10,
     "metadata": {},
     "output_type": "execute_result"
    }
   ],
   "source": [
    "X_train.mean(), X_train.std()"
   ]
  },
  {
   "cell_type": "code",
   "execution_count": 11,
   "metadata": {},
   "outputs": [
    {
     "data": {
      "text/plain": [
       "(0.03115018750306714, 1.0141865100438316)"
      ]
     },
     "execution_count": 11,
     "metadata": {},
     "output_type": "execute_result"
    }
   ],
   "source": [
    "X_test.mean(), X_test.std()"
   ]
  },
  {
   "cell_type": "code",
   "execution_count": 12,
   "metadata": {},
   "outputs": [
    {
     "data": {
      "text/plain": [
       "(-1.1396431605636196e-16, 1.0)"
      ]
     },
     "execution_count": 12,
     "metadata": {},
     "output_type": "execute_result"
    }
   ],
   "source": [
    "Y_train.mean(), Y_train.std()"
   ]
  },
  {
   "cell_type": "code",
   "execution_count": 13,
   "metadata": {},
   "outputs": [
    {
     "data": {
      "text/plain": [
       "(-0.010203548677350372, 1.0051442612138786)"
      ]
     },
     "execution_count": 13,
     "metadata": {},
     "output_type": "execute_result"
    }
   ],
   "source": [
    "Y_test.mean(), Y_test.std()"
   ]
  },
  {
   "cell_type": "code",
   "execution_count": 14,
   "metadata": {},
   "outputs": [],
   "source": [
    "LR_result = pd.DataFrame()"
   ]
  },
  {
   "cell_type": "code",
   "execution_count": 33,
   "metadata": {},
   "outputs": [
    {
     "name": "stdout",
     "output_type": "stream",
     "text": [
      "iteration:500\t loss:0.184907\n",
      "iteration:1000\t loss:0.184907\n",
      "iteration:1500\t loss:0.184907\n",
      "iteration:2000\t loss:0.184907\n",
      "iteration:2500\t loss:0.184907\n",
      "iteration:3000\t loss:0.184907\n",
      "iteration:3500\t loss:0.184906\n",
      "iteration:4000\t loss:0.184906\n",
      "iteration:4500\t loss:0.184906\n",
      "iteration:5000\t loss:0.184906\n",
      "iteration:5500\t loss:0.184906\n",
      "iteration:6000\t loss:0.184906\n",
      "iteration:6500\t loss:0.184906\n",
      "iteration:7000\t loss:0.184906\n",
      "iteration:7500\t loss:0.184906\n",
      "iteration:8000\t loss:0.184906\n",
      "iteration:8500\t loss:0.184906\n",
      "iteration:9000\t loss:0.184906\n",
      "iteration:9500\t loss:0.184906\n",
      "iteration:10000\t loss:0.184906\n"
     ]
    },
    {
     "data": {
      "text/plain": [
       "0.6301918754312268"
      ]
     },
     "execution_count": 33,
     "metadata": {},
     "output_type": "execute_result"
    }
   ],
   "source": [
    "LR = LinearRegression()\n",
    "LR.fit(X_train, Y_train, verbose=True, max_iters=10000, lr=1, print_freq=500, tol=1e-100)\n",
    "LR.R2_score(X_train, Y_train)"
   ]
  },
  {
   "cell_type": "code",
   "execution_count": 27,
   "metadata": {},
   "outputs": [
    {
     "data": {
      "text/plain": [
       "0.6684910176940952"
      ]
     },
     "execution_count": 27,
     "metadata": {},
     "output_type": "execute_result"
    }
   ],
   "source": [
    "LR.R2_score(X_test, Y_test)"
   ]
  },
  {
   "cell_type": "code",
   "execution_count": 28,
   "metadata": {},
   "outputs": [
    {
     "data": {
      "text/plain": [
       "0.3698081245687732"
      ]
     },
     "execution_count": 28,
     "metadata": {},
     "output_type": "execute_result"
    }
   ],
   "source": [
    "LR.MSE(X_train, Y_train)"
   ]
  },
  {
   "cell_type": "code",
   "execution_count": 29,
   "metadata": {},
   "outputs": [
    {
     "data": {
      "text/plain": [
       "0.33492849276793396"
      ]
     },
     "execution_count": 29,
     "metadata": {},
     "output_type": "execute_result"
    }
   ],
   "source": [
    "LR.MSE(X_test, Y_test)"
   ]
  },
  {
   "cell_type": "code",
   "execution_count": 30,
   "metadata": {},
   "outputs": [
    {
     "name": "stderr",
     "output_type": "stream",
     "text": [
      "/usr/local/Anaconda3/lib/python3.8/site-packages/numpy/core/_methods.py:38: RuntimeWarning: overflow encountered in reduce\n",
      "  return umr_sum(a, axis, dtype, out, keepdims, initial, where)\n",
      "/home/i4ai/FinTech/model/LinearModel.py:19: RuntimeWarning: overflow encountered in square\n",
      "  return 0.5 * (np.square(lables - predictions).sum() + self.lambd * np.square(self.coef_).sum()) / n_samples\n"
     ]
    }
   ],
   "source": [
    "list_lambda = [0.0001, 0.0003, 0.001, 0.003, 0.01, 0.03, 0.1, 0.3, 1, 3, 10, 30, 100, 300]\n",
    "R2_score_train = []\n",
    "R2_score_test = []\n",
    "MSE_train = []\n",
    "MSE_test = []\n",
    "for i in list_lambda:\n",
    "    LR.fit(X_train, Y_train, verbose=False, max_iters=10000, lr=i, print_freq=50)\n",
    "    R2_score_train.append(LR.R2_score(X_train, Y_train))\n",
    "    R2_score_test.append(LR.R2_score(X_test, Y_test))\n",
    "    MSE_train.append(LR.MSE(X_train, Y_train))\n",
    "    MSE_test.append(LR.MSE(X_test, Y_test))\n"
   ]
  },
  {
   "cell_type": "code",
   "execution_count": 31,
   "metadata": {},
   "outputs": [
    {
     "data": {
      "text/html": [
       "<div>\n",
       "<style scoped>\n",
       "    .dataframe tbody tr th:only-of-type {\n",
       "        vertical-align: middle;\n",
       "    }\n",
       "\n",
       "    .dataframe tbody tr th {\n",
       "        vertical-align: top;\n",
       "    }\n",
       "\n",
       "    .dataframe thead th {\n",
       "        text-align: right;\n",
       "    }\n",
       "</style>\n",
       "<table border=\"1\" class=\"dataframe\">\n",
       "  <thead>\n",
       "    <tr style=\"text-align: right;\">\n",
       "      <th></th>\n",
       "      <th>lambda</th>\n",
       "      <th>R2_score_train</th>\n",
       "      <th>R2_score_test</th>\n",
       "      <th>MSE_train</th>\n",
       "      <th>MSE_test</th>\n",
       "    </tr>\n",
       "  </thead>\n",
       "  <tbody>\n",
       "    <tr>\n",
       "      <th>13</th>\n",
       "      <td>300.0000</td>\n",
       "      <td>-6.176743e+292</td>\n",
       "      <td>-7.100100e+292</td>\n",
       "      <td>6.176743e+292</td>\n",
       "      <td>7.173337e+292</td>\n",
       "    </tr>\n",
       "    <tr>\n",
       "      <th>12</th>\n",
       "      <td>100.0000</td>\n",
       "      <td>-1.081317e+51</td>\n",
       "      <td>-1.242962e+51</td>\n",
       "      <td>1.081317e+51</td>\n",
       "      <td>1.255783e+51</td>\n",
       "    </tr>\n",
       "    <tr>\n",
       "      <th>0</th>\n",
       "      <td>0.0001</td>\n",
       "      <td>1.480784e-03</td>\n",
       "      <td>1.400177e-03</td>\n",
       "      <td>9.985192e-01</td>\n",
       "      <td>1.008900e+00</td>\n",
       "    </tr>\n",
       "    <tr>\n",
       "      <th>1</th>\n",
       "      <td>0.0003</td>\n",
       "      <td>4.431949e-03</td>\n",
       "      <td>4.396318e-03</td>\n",
       "      <td>9.955681e-01</td>\n",
       "      <td>1.005873e+00</td>\n",
       "    </tr>\n",
       "    <tr>\n",
       "      <th>2</th>\n",
       "      <td>0.0010</td>\n",
       "      <td>1.465264e-02</td>\n",
       "      <td>1.477537e-02</td>\n",
       "      <td>9.853474e-01</td>\n",
       "      <td>9.953872e-01</td>\n",
       "    </tr>\n",
       "    <tr>\n",
       "      <th>3</th>\n",
       "      <td>0.0030</td>\n",
       "      <td>4.294639e-02</td>\n",
       "      <td>4.352920e-02</td>\n",
       "      <td>9.570536e-01</td>\n",
       "      <td>9.663368e-01</td>\n",
       "    </tr>\n",
       "    <tr>\n",
       "      <th>4</th>\n",
       "      <td>0.0100</td>\n",
       "      <td>1.321453e-01</td>\n",
       "      <td>1.344106e-01</td>\n",
       "      <td>8.678547e-01</td>\n",
       "      <td>8.745179e-01</td>\n",
       "    </tr>\n",
       "    <tr>\n",
       "      <th>5</th>\n",
       "      <td>0.0300</td>\n",
       "      <td>3.193196e-01</td>\n",
       "      <td>3.266746e-01</td>\n",
       "      <td>6.806804e-01</td>\n",
       "      <td>6.802707e-01</td>\n",
       "    </tr>\n",
       "    <tr>\n",
       "      <th>6</th>\n",
       "      <td>0.1000</td>\n",
       "      <td>5.709811e-01</td>\n",
       "      <td>5.934947e-01</td>\n",
       "      <td>4.290189e-01</td>\n",
       "      <td>4.106984e-01</td>\n",
       "    </tr>\n",
       "    <tr>\n",
       "      <th>7</th>\n",
       "      <td>0.3000</td>\n",
       "      <td>6.296569e-01</td>\n",
       "      <td>6.664661e-01</td>\n",
       "      <td>3.703431e-01</td>\n",
       "      <td>3.369743e-01</td>\n",
       "    </tr>\n",
       "    <tr>\n",
       "      <th>11</th>\n",
       "      <td>30.0000</td>\n",
       "      <td>6.301925e-01</td>\n",
       "      <td>6.684225e-01</td>\n",
       "      <td>3.698075e-01</td>\n",
       "      <td>3.349978e-01</td>\n",
       "    </tr>\n",
       "    <tr>\n",
       "      <th>10</th>\n",
       "      <td>10.0000</td>\n",
       "      <td>6.301925e-01</td>\n",
       "      <td>6.684225e-01</td>\n",
       "      <td>3.698075e-01</td>\n",
       "      <td>3.349978e-01</td>\n",
       "    </tr>\n",
       "    <tr>\n",
       "      <th>9</th>\n",
       "      <td>3.0000</td>\n",
       "      <td>6.301925e-01</td>\n",
       "      <td>6.684226e-01</td>\n",
       "      <td>3.698075e-01</td>\n",
       "      <td>3.349976e-01</td>\n",
       "    </tr>\n",
       "    <tr>\n",
       "      <th>8</th>\n",
       "      <td>1.0000</td>\n",
       "      <td>6.301919e-01</td>\n",
       "      <td>6.684910e-01</td>\n",
       "      <td>3.698081e-01</td>\n",
       "      <td>3.349285e-01</td>\n",
       "    </tr>\n",
       "  </tbody>\n",
       "</table>\n",
       "</div>"
      ],
      "text/plain": [
       "      lambda  R2_score_train  R2_score_test      MSE_train       MSE_test\n",
       "13  300.0000  -6.176743e+292 -7.100100e+292  6.176743e+292  7.173337e+292\n",
       "12  100.0000   -1.081317e+51  -1.242962e+51   1.081317e+51   1.255783e+51\n",
       "0     0.0001    1.480784e-03   1.400177e-03   9.985192e-01   1.008900e+00\n",
       "1     0.0003    4.431949e-03   4.396318e-03   9.955681e-01   1.005873e+00\n",
       "2     0.0010    1.465264e-02   1.477537e-02   9.853474e-01   9.953872e-01\n",
       "3     0.0030    4.294639e-02   4.352920e-02   9.570536e-01   9.663368e-01\n",
       "4     0.0100    1.321453e-01   1.344106e-01   8.678547e-01   8.745179e-01\n",
       "5     0.0300    3.193196e-01   3.266746e-01   6.806804e-01   6.802707e-01\n",
       "6     0.1000    5.709811e-01   5.934947e-01   4.290189e-01   4.106984e-01\n",
       "7     0.3000    6.296569e-01   6.664661e-01   3.703431e-01   3.369743e-01\n",
       "11   30.0000    6.301925e-01   6.684225e-01   3.698075e-01   3.349978e-01\n",
       "10   10.0000    6.301925e-01   6.684225e-01   3.698075e-01   3.349978e-01\n",
       "9     3.0000    6.301925e-01   6.684226e-01   3.698075e-01   3.349976e-01\n",
       "8     1.0000    6.301919e-01   6.684910e-01   3.698081e-01   3.349285e-01"
      ]
     },
     "execution_count": 31,
     "metadata": {},
     "output_type": "execute_result"
    }
   ],
   "source": [
    "res = pd.DataFrame()\n",
    "res['lambda'] = list_lambda\n",
    "res['R2_score_train'] = R2_score_train\n",
    "res['R2_score_test'] = R2_score_test\n",
    "res['MSE_train'] = MSE_train\n",
    "res['MSE_test'] = MSE_test\n",
    "res.sort_values(by=['R2_score_test'])"
   ]
  },
  {
   "cell_type": "code",
   "execution_count": 34,
   "metadata": {},
   "outputs": [],
   "source": [
    "df_import = pd.DataFrame(columns=['variable'])\n",
    "df_import['variable'] = df_input.columns"
   ]
  },
  {
   "cell_type": "code",
   "execution_count": 35,
   "metadata": {},
   "outputs": [
    {
     "data": {
      "text/html": [
       "<div>\n",
       "<style scoped>\n",
       "    .dataframe tbody tr th:only-of-type {\n",
       "        vertical-align: middle;\n",
       "    }\n",
       "\n",
       "    .dataframe tbody tr th {\n",
       "        vertical-align: top;\n",
       "    }\n",
       "\n",
       "    .dataframe thead th {\n",
       "        text-align: right;\n",
       "    }\n",
       "</style>\n",
       "<table border=\"1\" class=\"dataframe\">\n",
       "  <thead>\n",
       "    <tr style=\"text-align: right;\">\n",
       "      <th></th>\n",
       "      <th>variable</th>\n",
       "      <th>coefficient</th>\n",
       "      <th>abs_coefficient</th>\n",
       "    </tr>\n",
       "  </thead>\n",
       "  <tbody>\n",
       "    <tr>\n",
       "      <th>0</th>\n",
       "      <td>Sentiment_24h</td>\n",
       "      <td>0.791538</td>\n",
       "      <td>0.791538</td>\n",
       "    </tr>\n",
       "    <tr>\n",
       "      <th>8</th>\n",
       "      <td>SPY_Gain_Rate</td>\n",
       "      <td>-0.040001</td>\n",
       "      <td>0.040001</td>\n",
       "    </tr>\n",
       "    <tr>\n",
       "      <th>6</th>\n",
       "      <td>DJCI_Gain_Rate</td>\n",
       "      <td>0.032059</td>\n",
       "      <td>0.032059</td>\n",
       "    </tr>\n",
       "    <tr>\n",
       "      <th>2</th>\n",
       "      <td>World_Index_Gain_Rate</td>\n",
       "      <td>0.025413</td>\n",
       "      <td>0.025413</td>\n",
       "    </tr>\n",
       "    <tr>\n",
       "      <th>9</th>\n",
       "      <td>VIX_Gain_Rate</td>\n",
       "      <td>0.010414</td>\n",
       "      <td>0.010414</td>\n",
       "    </tr>\n",
       "    <tr>\n",
       "      <th>10</th>\n",
       "      <td>TNXTbill_Gain_Rate</td>\n",
       "      <td>-0.010344</td>\n",
       "      <td>0.010344</td>\n",
       "    </tr>\n",
       "    <tr>\n",
       "      <th>5</th>\n",
       "      <td>DBCCommodity_Gain_Rate</td>\n",
       "      <td>0.008497</td>\n",
       "      <td>0.008497</td>\n",
       "    </tr>\n",
       "    <tr>\n",
       "      <th>1</th>\n",
       "      <td>DXYUSD_Gain_Rate</td>\n",
       "      <td>-0.008275</td>\n",
       "      <td>0.008275</td>\n",
       "    </tr>\n",
       "    <tr>\n",
       "      <th>3</th>\n",
       "      <td>GoldUSD_Gain_Rate</td>\n",
       "      <td>0.007702</td>\n",
       "      <td>0.007702</td>\n",
       "    </tr>\n",
       "    <tr>\n",
       "      <th>4</th>\n",
       "      <td>Silver_Gain_Rate</td>\n",
       "      <td>0.007702</td>\n",
       "      <td>0.007702</td>\n",
       "    </tr>\n",
       "    <tr>\n",
       "      <th>7</th>\n",
       "      <td>CrudeOil_Gain_Rate</td>\n",
       "      <td>0.005325</td>\n",
       "      <td>0.005325</td>\n",
       "    </tr>\n",
       "  </tbody>\n",
       "</table>\n",
       "</div>"
      ],
      "text/plain": [
       "                  variable  coefficient  abs_coefficient\n",
       "0            Sentiment_24h     0.791538         0.791538\n",
       "8            SPY_Gain_Rate    -0.040001         0.040001\n",
       "6           DJCI_Gain_Rate     0.032059         0.032059\n",
       "2    World_Index_Gain_Rate     0.025413         0.025413\n",
       "9            VIX_Gain_Rate     0.010414         0.010414\n",
       "10      TNXTbill_Gain_Rate    -0.010344         0.010344\n",
       "5   DBCCommodity_Gain_Rate     0.008497         0.008497\n",
       "1         DXYUSD_Gain_Rate    -0.008275         0.008275\n",
       "3        GoldUSD_Gain_Rate     0.007702         0.007702\n",
       "4         Silver_Gain_Rate     0.007702         0.007702\n",
       "7       CrudeOil_Gain_Rate     0.005325         0.005325"
      ]
     },
     "execution_count": 35,
     "metadata": {},
     "output_type": "execute_result"
    }
   ],
   "source": [
    "df_coef = pd.DataFrame(columns=['variable', 'coefficient'])\n",
    "df_coef['variable'] = df_input.columns\n",
    "df_coef['coefficient'] = LR.coef_\n",
    "df_coef['abs_coefficient'] = df_coef['coefficient'].abs()\n",
    "# sort by absolute value of coefficient\n",
    "pd.set_option('display.max_rows',None)\n",
    "df_coef.sort_values(by=['abs_coefficient'], ascending=False)"
   ]
  },
  {
   "cell_type": "markdown",
   "metadata": {},
   "source": [
    "## Other machine learning methods"
   ]
  },
  {
   "cell_type": "code",
   "execution_count": 48,
   "metadata": {},
   "outputs": [
    {
     "data": {
      "text/plain": [
       "0.7604202337722638"
      ]
     },
     "execution_count": 48,
     "metadata": {},
     "output_type": "execute_result"
    }
   ],
   "source": [
    "from sklearn.ensemble import RandomForestRegressor\n",
    "clf = RandomForestRegressor()\n",
    "clf.fit(X_train,Y_train.ravel())\n",
    "clf.score(X_test,Y_test)"
   ]
  },
  {
   "cell_type": "code",
   "execution_count": 49,
   "metadata": {},
   "outputs": [
    {
     "data": {
      "text/plain": [
       "0.24205102812660773"
      ]
     },
     "execution_count": 49,
     "metadata": {},
     "output_type": "execute_result"
    }
   ],
   "source": [
    "pred = clf.predict(X_test)\n",
    "MSE(Y_test, pred)"
   ]
  },
  {
   "cell_type": "code",
   "execution_count": 50,
   "metadata": {},
   "outputs": [
    {
     "data": {
      "text/plain": [
       "0.03171450304795434"
      ]
     },
     "execution_count": 50,
     "metadata": {},
     "output_type": "execute_result"
    }
   ],
   "source": [
    "pred = clf.predict(X_train)\n",
    "MSE(Y_train, pred)"
   ]
  },
  {
   "cell_type": "code",
   "execution_count": 51,
   "metadata": {},
   "outputs": [
    {
     "data": {
      "text/plain": [
       "array([0.81872201, 0.01761698, 0.01836733, 0.01092539, 0.01023708,\n",
       "       0.0169256 , 0.02090514, 0.01867665, 0.01750007, 0.02778249,\n",
       "       0.02234127])"
      ]
     },
     "execution_count": 51,
     "metadata": {},
     "output_type": "execute_result"
    }
   ],
   "source": [
    "clf.feature_importances_"
   ]
  },
  {
   "cell_type": "code",
   "execution_count": 52,
   "metadata": {},
   "outputs": [
    {
     "data": {
      "text/html": [
       "<div>\n",
       "<style scoped>\n",
       "    .dataframe tbody tr th:only-of-type {\n",
       "        vertical-align: middle;\n",
       "    }\n",
       "\n",
       "    .dataframe tbody tr th {\n",
       "        vertical-align: top;\n",
       "    }\n",
       "\n",
       "    .dataframe thead th {\n",
       "        text-align: right;\n",
       "    }\n",
       "</style>\n",
       "<table border=\"1\" class=\"dataframe\">\n",
       "  <thead>\n",
       "    <tr style=\"text-align: right;\">\n",
       "      <th></th>\n",
       "      <th>variable</th>\n",
       "      <th>RandomForestRegressor</th>\n",
       "    </tr>\n",
       "  </thead>\n",
       "  <tbody>\n",
       "    <tr>\n",
       "      <th>0</th>\n",
       "      <td>Sentiment_24h</td>\n",
       "      <td>1</td>\n",
       "    </tr>\n",
       "    <tr>\n",
       "      <th>1</th>\n",
       "      <td>DXYUSD_Gain_Rate</td>\n",
       "      <td>7</td>\n",
       "    </tr>\n",
       "    <tr>\n",
       "      <th>2</th>\n",
       "      <td>World_Index_Gain_Rate</td>\n",
       "      <td>6</td>\n",
       "    </tr>\n",
       "    <tr>\n",
       "      <th>3</th>\n",
       "      <td>GoldUSD_Gain_Rate</td>\n",
       "      <td>10</td>\n",
       "    </tr>\n",
       "    <tr>\n",
       "      <th>4</th>\n",
       "      <td>Silver_Gain_Rate</td>\n",
       "      <td>11</td>\n",
       "    </tr>\n",
       "    <tr>\n",
       "      <th>5</th>\n",
       "      <td>DBCCommodity_Gain_Rate</td>\n",
       "      <td>9</td>\n",
       "    </tr>\n",
       "    <tr>\n",
       "      <th>6</th>\n",
       "      <td>DJCI_Gain_Rate</td>\n",
       "      <td>4</td>\n",
       "    </tr>\n",
       "    <tr>\n",
       "      <th>7</th>\n",
       "      <td>CrudeOil_Gain_Rate</td>\n",
       "      <td>5</td>\n",
       "    </tr>\n",
       "    <tr>\n",
       "      <th>8</th>\n",
       "      <td>SPY_Gain_Rate</td>\n",
       "      <td>8</td>\n",
       "    </tr>\n",
       "    <tr>\n",
       "      <th>9</th>\n",
       "      <td>VIX_Gain_Rate</td>\n",
       "      <td>2</td>\n",
       "    </tr>\n",
       "    <tr>\n",
       "      <th>10</th>\n",
       "      <td>TNXTbill_Gain_Rate</td>\n",
       "      <td>3</td>\n",
       "    </tr>\n",
       "  </tbody>\n",
       "</table>\n",
       "</div>"
      ],
      "text/plain": [
       "                  variable  RandomForestRegressor\n",
       "0            Sentiment_24h                      1\n",
       "1         DXYUSD_Gain_Rate                      7\n",
       "2    World_Index_Gain_Rate                      6\n",
       "3        GoldUSD_Gain_Rate                     10\n",
       "4         Silver_Gain_Rate                     11\n",
       "5   DBCCommodity_Gain_Rate                      9\n",
       "6           DJCI_Gain_Rate                      4\n",
       "7       CrudeOil_Gain_Rate                      5\n",
       "8            SPY_Gain_Rate                      8\n",
       "9            VIX_Gain_Rate                      2\n",
       "10      TNXTbill_Gain_Rate                      3"
      ]
     },
     "execution_count": 52,
     "metadata": {},
     "output_type": "execute_result"
    }
   ],
   "source": [
    "rank = np.zeros(len(clf.feature_importances_))\n",
    "for i, ind in enumerate(np.argsort(clf.feature_importances_)):\n",
    "    rank[ind] = int(len(clf.feature_importances_) - i)\n",
    "    \n",
    "df_import['RandomForestRegressor'] = rank\n",
    "df_import['RandomForestRegressor'] = df_import['RandomForestRegressor'].astype('int64')\n",
    "df_import"
   ]
  },
  {
   "cell_type": "code",
   "execution_count": 55,
   "metadata": {},
   "outputs": [
    {
     "data": {
      "text/plain": [
       "0.5542038393171331"
      ]
     },
     "execution_count": 55,
     "metadata": {},
     "output_type": "execute_result"
    }
   ],
   "source": [
    "from sklearn.tree import DecisionTreeRegressor\n",
    "DTR = DecisionTreeRegressor()\n",
    "DTR.fit(X_train, Y_train)\n",
    "DTR.score(X_test,Y_test)"
   ]
  },
  {
   "cell_type": "code",
   "execution_count": 56,
   "metadata": {},
   "outputs": [
    {
     "data": {
      "text/plain": [
       "0.45039454177282734"
      ]
     },
     "execution_count": 56,
     "metadata": {},
     "output_type": "execute_result"
    }
   ],
   "source": [
    "pred = DTR.predict(X_test)\n",
    "MSE(Y_test, pred)"
   ]
  },
  {
   "cell_type": "code",
   "execution_count": 57,
   "metadata": {},
   "outputs": [
    {
     "data": {
      "text/html": [
       "<div>\n",
       "<style scoped>\n",
       "    .dataframe tbody tr th:only-of-type {\n",
       "        vertical-align: middle;\n",
       "    }\n",
       "\n",
       "    .dataframe tbody tr th {\n",
       "        vertical-align: top;\n",
       "    }\n",
       "\n",
       "    .dataframe thead th {\n",
       "        text-align: right;\n",
       "    }\n",
       "</style>\n",
       "<table border=\"1\" class=\"dataframe\">\n",
       "  <thead>\n",
       "    <tr style=\"text-align: right;\">\n",
       "      <th></th>\n",
       "      <th>variable</th>\n",
       "      <th>RandomForestRegressor</th>\n",
       "      <th>DecisionTreeRegressor</th>\n",
       "    </tr>\n",
       "  </thead>\n",
       "  <tbody>\n",
       "    <tr>\n",
       "      <th>0</th>\n",
       "      <td>Sentiment_24h</td>\n",
       "      <td>1</td>\n",
       "      <td>1</td>\n",
       "    </tr>\n",
       "    <tr>\n",
       "      <th>1</th>\n",
       "      <td>DXYUSD_Gain_Rate</td>\n",
       "      <td>7</td>\n",
       "      <td>6</td>\n",
       "    </tr>\n",
       "    <tr>\n",
       "      <th>2</th>\n",
       "      <td>World_Index_Gain_Rate</td>\n",
       "      <td>6</td>\n",
       "      <td>7</td>\n",
       "    </tr>\n",
       "    <tr>\n",
       "      <th>3</th>\n",
       "      <td>GoldUSD_Gain_Rate</td>\n",
       "      <td>10</td>\n",
       "      <td>11</td>\n",
       "    </tr>\n",
       "    <tr>\n",
       "      <th>4</th>\n",
       "      <td>Silver_Gain_Rate</td>\n",
       "      <td>11</td>\n",
       "      <td>9</td>\n",
       "    </tr>\n",
       "    <tr>\n",
       "      <th>5</th>\n",
       "      <td>DBCCommodity_Gain_Rate</td>\n",
       "      <td>9</td>\n",
       "      <td>5</td>\n",
       "    </tr>\n",
       "    <tr>\n",
       "      <th>6</th>\n",
       "      <td>DJCI_Gain_Rate</td>\n",
       "      <td>4</td>\n",
       "      <td>3</td>\n",
       "    </tr>\n",
       "    <tr>\n",
       "      <th>7</th>\n",
       "      <td>CrudeOil_Gain_Rate</td>\n",
       "      <td>5</td>\n",
       "      <td>8</td>\n",
       "    </tr>\n",
       "    <tr>\n",
       "      <th>8</th>\n",
       "      <td>SPY_Gain_Rate</td>\n",
       "      <td>8</td>\n",
       "      <td>10</td>\n",
       "    </tr>\n",
       "    <tr>\n",
       "      <th>9</th>\n",
       "      <td>VIX_Gain_Rate</td>\n",
       "      <td>2</td>\n",
       "      <td>2</td>\n",
       "    </tr>\n",
       "    <tr>\n",
       "      <th>10</th>\n",
       "      <td>TNXTbill_Gain_Rate</td>\n",
       "      <td>3</td>\n",
       "      <td>4</td>\n",
       "    </tr>\n",
       "  </tbody>\n",
       "</table>\n",
       "</div>"
      ],
      "text/plain": [
       "                  variable  RandomForestRegressor  DecisionTreeRegressor\n",
       "0            Sentiment_24h                      1                      1\n",
       "1         DXYUSD_Gain_Rate                      7                      6\n",
       "2    World_Index_Gain_Rate                      6                      7\n",
       "3        GoldUSD_Gain_Rate                     10                     11\n",
       "4         Silver_Gain_Rate                     11                      9\n",
       "5   DBCCommodity_Gain_Rate                      9                      5\n",
       "6           DJCI_Gain_Rate                      4                      3\n",
       "7       CrudeOil_Gain_Rate                      5                      8\n",
       "8            SPY_Gain_Rate                      8                     10\n",
       "9            VIX_Gain_Rate                      2                      2\n",
       "10      TNXTbill_Gain_Rate                      3                      4"
      ]
     },
     "execution_count": 57,
     "metadata": {},
     "output_type": "execute_result"
    }
   ],
   "source": [
    "rank = np.zeros(len(clf.feature_importances_))\n",
    "for i, ind in enumerate(np.argsort(DTR.feature_importances_)):\n",
    "    rank[ind] = int(len(DTR.feature_importances_) - i)\n",
    "    \n",
    "df_import['DecisionTreeRegressor'] = rank\n",
    "df_import['DecisionTreeRegressor'] = df_import['DecisionTreeRegressor'].astype('int64')\n",
    "df_import"
   ]
  },
  {
   "cell_type": "code",
   "execution_count": 60,
   "metadata": {},
   "outputs": [
    {
     "name": "stderr",
     "output_type": "stream",
     "text": [
      "/usr/local/Anaconda3/lib/python3.8/site-packages/sklearn/svm/_base.py:976: ConvergenceWarning: Liblinear failed to converge, increase the number of iterations.\n",
      "  warnings.warn(\"Liblinear failed to converge, increase \"\n"
     ]
    },
    {
     "data": {
      "text/plain": [
       "0.659592635505404"
      ]
     },
     "execution_count": 60,
     "metadata": {},
     "output_type": "execute_result"
    }
   ],
   "source": [
    "from sklearn.svm import LinearSVR\n",
    "SVR = LinearSVR()\n",
    "SVR.fit(X_train, Y_train.ravel())\n",
    "SVR.score(X_test,Y_test)"
   ]
  },
  {
   "cell_type": "code",
   "execution_count": 62,
   "metadata": {},
   "outputs": [
    {
     "data": {
      "text/plain": [
       "0.3439186616429999"
      ]
     },
     "execution_count": 62,
     "metadata": {},
     "output_type": "execute_result"
    }
   ],
   "source": [
    "pred = SVR.predict(X_test)\n",
    "MSE(Y_test, pred)"
   ]
  },
  {
   "cell_type": "code",
   "execution_count": 63,
   "metadata": {},
   "outputs": [
    {
     "data": {
      "text/html": [
       "<div>\n",
       "<style scoped>\n",
       "    .dataframe tbody tr th:only-of-type {\n",
       "        vertical-align: middle;\n",
       "    }\n",
       "\n",
       "    .dataframe tbody tr th {\n",
       "        vertical-align: top;\n",
       "    }\n",
       "\n",
       "    .dataframe thead th {\n",
       "        text-align: right;\n",
       "    }\n",
       "</style>\n",
       "<table border=\"1\" class=\"dataframe\">\n",
       "  <thead>\n",
       "    <tr style=\"text-align: right;\">\n",
       "      <th></th>\n",
       "      <th>variable</th>\n",
       "      <th>RandomForestRegressor</th>\n",
       "      <th>DecisionTreeRegressor</th>\n",
       "      <th>LinearSVR</th>\n",
       "    </tr>\n",
       "  </thead>\n",
       "  <tbody>\n",
       "    <tr>\n",
       "      <th>0</th>\n",
       "      <td>Sentiment_24h</td>\n",
       "      <td>1</td>\n",
       "      <td>1</td>\n",
       "      <td>1</td>\n",
       "    </tr>\n",
       "    <tr>\n",
       "      <th>1</th>\n",
       "      <td>DXYUSD_Gain_Rate</td>\n",
       "      <td>7</td>\n",
       "      <td>6</td>\n",
       "      <td>10</td>\n",
       "    </tr>\n",
       "    <tr>\n",
       "      <th>2</th>\n",
       "      <td>World_Index_Gain_Rate</td>\n",
       "      <td>6</td>\n",
       "      <td>7</td>\n",
       "      <td>8</td>\n",
       "    </tr>\n",
       "    <tr>\n",
       "      <th>3</th>\n",
       "      <td>GoldUSD_Gain_Rate</td>\n",
       "      <td>10</td>\n",
       "      <td>11</td>\n",
       "      <td>7</td>\n",
       "    </tr>\n",
       "    <tr>\n",
       "      <th>4</th>\n",
       "      <td>Silver_Gain_Rate</td>\n",
       "      <td>11</td>\n",
       "      <td>9</td>\n",
       "      <td>6</td>\n",
       "    </tr>\n",
       "    <tr>\n",
       "      <th>5</th>\n",
       "      <td>DBCCommodity_Gain_Rate</td>\n",
       "      <td>9</td>\n",
       "      <td>5</td>\n",
       "      <td>2</td>\n",
       "    </tr>\n",
       "    <tr>\n",
       "      <th>6</th>\n",
       "      <td>DJCI_Gain_Rate</td>\n",
       "      <td>4</td>\n",
       "      <td>3</td>\n",
       "      <td>3</td>\n",
       "    </tr>\n",
       "    <tr>\n",
       "      <th>7</th>\n",
       "      <td>CrudeOil_Gain_Rate</td>\n",
       "      <td>5</td>\n",
       "      <td>8</td>\n",
       "      <td>9</td>\n",
       "    </tr>\n",
       "    <tr>\n",
       "      <th>8</th>\n",
       "      <td>SPY_Gain_Rate</td>\n",
       "      <td>8</td>\n",
       "      <td>10</td>\n",
       "      <td>5</td>\n",
       "    </tr>\n",
       "    <tr>\n",
       "      <th>9</th>\n",
       "      <td>VIX_Gain_Rate</td>\n",
       "      <td>2</td>\n",
       "      <td>2</td>\n",
       "      <td>4</td>\n",
       "    </tr>\n",
       "    <tr>\n",
       "      <th>10</th>\n",
       "      <td>TNXTbill_Gain_Rate</td>\n",
       "      <td>3</td>\n",
       "      <td>4</td>\n",
       "      <td>11</td>\n",
       "    </tr>\n",
       "  </tbody>\n",
       "</table>\n",
       "</div>"
      ],
      "text/plain": [
       "                  variable  RandomForestRegressor  DecisionTreeRegressor  \\\n",
       "0            Sentiment_24h                      1                      1   \n",
       "1         DXYUSD_Gain_Rate                      7                      6   \n",
       "2    World_Index_Gain_Rate                      6                      7   \n",
       "3        GoldUSD_Gain_Rate                     10                     11   \n",
       "4         Silver_Gain_Rate                     11                      9   \n",
       "5   DBCCommodity_Gain_Rate                      9                      5   \n",
       "6           DJCI_Gain_Rate                      4                      3   \n",
       "7       CrudeOil_Gain_Rate                      5                      8   \n",
       "8            SPY_Gain_Rate                      8                     10   \n",
       "9            VIX_Gain_Rate                      2                      2   \n",
       "10      TNXTbill_Gain_Rate                      3                      4   \n",
       "\n",
       "    LinearSVR  \n",
       "0           1  \n",
       "1          10  \n",
       "2           8  \n",
       "3           7  \n",
       "4           6  \n",
       "5           2  \n",
       "6           3  \n",
       "7           9  \n",
       "8           5  \n",
       "9           4  \n",
       "10         11  "
      ]
     },
     "execution_count": 63,
     "metadata": {},
     "output_type": "execute_result"
    }
   ],
   "source": [
    "rank = np.zeros(len(SVR.coef_))\n",
    "for i, ind in enumerate(np.argsort(SVR.coef_)):\n",
    "    rank[ind] = int(len(SVR.coef_) - i)\n",
    "    \n",
    "df_import['LinearSVR'] = rank\n",
    "df_import['LinearSVR'] = df_import['LinearSVR'].astype('int64')\n",
    "df_import"
   ]
  },
  {
   "cell_type": "code",
   "execution_count": 71,
   "metadata": {},
   "outputs": [],
   "source": [
    "df_import['sum'] = df_import['RandomForestRegressor'] + df_import['DecisionTreeRegressor'] + df_import['LinearSVR']"
   ]
  },
  {
   "cell_type": "code",
   "execution_count": 72,
   "metadata": {},
   "outputs": [
    {
     "data": {
      "text/html": [
       "<div>\n",
       "<style scoped>\n",
       "    .dataframe tbody tr th:only-of-type {\n",
       "        vertical-align: middle;\n",
       "    }\n",
       "\n",
       "    .dataframe tbody tr th {\n",
       "        vertical-align: top;\n",
       "    }\n",
       "\n",
       "    .dataframe thead th {\n",
       "        text-align: right;\n",
       "    }\n",
       "</style>\n",
       "<table border=\"1\" class=\"dataframe\">\n",
       "  <thead>\n",
       "    <tr style=\"text-align: right;\">\n",
       "      <th></th>\n",
       "      <th>variable</th>\n",
       "      <th>RandomForestRegressor</th>\n",
       "      <th>DecisionTreeRegressor</th>\n",
       "      <th>LinearSVR</th>\n",
       "      <th>sum</th>\n",
       "    </tr>\n",
       "  </thead>\n",
       "  <tbody>\n",
       "    <tr>\n",
       "      <th>0</th>\n",
       "      <td>Sentiment_24h</td>\n",
       "      <td>1</td>\n",
       "      <td>1</td>\n",
       "      <td>1</td>\n",
       "      <td>3</td>\n",
       "    </tr>\n",
       "    <tr>\n",
       "      <th>9</th>\n",
       "      <td>VIX_Gain_Rate</td>\n",
       "      <td>2</td>\n",
       "      <td>2</td>\n",
       "      <td>4</td>\n",
       "      <td>8</td>\n",
       "    </tr>\n",
       "    <tr>\n",
       "      <th>6</th>\n",
       "      <td>DJCI_Gain_Rate</td>\n",
       "      <td>4</td>\n",
       "      <td>3</td>\n",
       "      <td>3</td>\n",
       "      <td>10</td>\n",
       "    </tr>\n",
       "    <tr>\n",
       "      <th>5</th>\n",
       "      <td>DBCCommodity_Gain_Rate</td>\n",
       "      <td>9</td>\n",
       "      <td>5</td>\n",
       "      <td>2</td>\n",
       "      <td>16</td>\n",
       "    </tr>\n",
       "    <tr>\n",
       "      <th>10</th>\n",
       "      <td>TNXTbill_Gain_Rate</td>\n",
       "      <td>3</td>\n",
       "      <td>4</td>\n",
       "      <td>11</td>\n",
       "      <td>18</td>\n",
       "    </tr>\n",
       "    <tr>\n",
       "      <th>2</th>\n",
       "      <td>World_Index_Gain_Rate</td>\n",
       "      <td>6</td>\n",
       "      <td>7</td>\n",
       "      <td>8</td>\n",
       "      <td>21</td>\n",
       "    </tr>\n",
       "    <tr>\n",
       "      <th>7</th>\n",
       "      <td>CrudeOil_Gain_Rate</td>\n",
       "      <td>5</td>\n",
       "      <td>8</td>\n",
       "      <td>9</td>\n",
       "      <td>22</td>\n",
       "    </tr>\n",
       "    <tr>\n",
       "      <th>1</th>\n",
       "      <td>DXYUSD_Gain_Rate</td>\n",
       "      <td>7</td>\n",
       "      <td>6</td>\n",
       "      <td>10</td>\n",
       "      <td>23</td>\n",
       "    </tr>\n",
       "    <tr>\n",
       "      <th>8</th>\n",
       "      <td>SPY_Gain_Rate</td>\n",
       "      <td>8</td>\n",
       "      <td>10</td>\n",
       "      <td>5</td>\n",
       "      <td>23</td>\n",
       "    </tr>\n",
       "    <tr>\n",
       "      <th>4</th>\n",
       "      <td>Silver_Gain_Rate</td>\n",
       "      <td>11</td>\n",
       "      <td>9</td>\n",
       "      <td>6</td>\n",
       "      <td>26</td>\n",
       "    </tr>\n",
       "    <tr>\n",
       "      <th>3</th>\n",
       "      <td>GoldUSD_Gain_Rate</td>\n",
       "      <td>10</td>\n",
       "      <td>11</td>\n",
       "      <td>7</td>\n",
       "      <td>28</td>\n",
       "    </tr>\n",
       "  </tbody>\n",
       "</table>\n",
       "</div>"
      ],
      "text/plain": [
       "                  variable  RandomForestRegressor  DecisionTreeRegressor  \\\n",
       "0            Sentiment_24h                      1                      1   \n",
       "9            VIX_Gain_Rate                      2                      2   \n",
       "6           DJCI_Gain_Rate                      4                      3   \n",
       "5   DBCCommodity_Gain_Rate                      9                      5   \n",
       "10      TNXTbill_Gain_Rate                      3                      4   \n",
       "2    World_Index_Gain_Rate                      6                      7   \n",
       "7       CrudeOil_Gain_Rate                      5                      8   \n",
       "1         DXYUSD_Gain_Rate                      7                      6   \n",
       "8            SPY_Gain_Rate                      8                     10   \n",
       "4         Silver_Gain_Rate                     11                      9   \n",
       "3        GoldUSD_Gain_Rate                     10                     11   \n",
       "\n",
       "    LinearSVR  sum  \n",
       "0           1    3  \n",
       "9           4    8  \n",
       "6           3   10  \n",
       "5           2   16  \n",
       "10         11   18  \n",
       "2           8   21  \n",
       "7           9   22  \n",
       "1          10   23  \n",
       "8           5   23  \n",
       "4           6   26  \n",
       "3           7   28  "
      ]
     },
     "execution_count": 72,
     "metadata": {},
     "output_type": "execute_result"
    }
   ],
   "source": [
    "df_import.sort_values(by=['sum'])"
   ]
  }
 ],
 "metadata": {
  "kernelspec": {
   "display_name": "anaconda",
   "language": "python",
   "name": "anaconda"
  },
  "language_info": {
   "codemirror_mode": {
    "name": "ipython",
    "version": 3
   },
   "file_extension": ".py",
   "mimetype": "text/x-python",
   "name": "python",
   "nbconvert_exporter": "python",
   "pygments_lexer": "ipython3",
   "version": "3.8.3"
  }
 },
 "nbformat": 4,
 "nbformat_minor": 5
}
