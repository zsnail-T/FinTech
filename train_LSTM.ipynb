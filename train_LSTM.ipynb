{
 "cells": [
  {
   "cell_type": "code",
   "execution_count": 1,
   "metadata": {},
   "outputs": [],
   "source": [
    "import numpy as np\n",
    "import pandas as pd\n",
    "import math\n",
    "import time\n",
    "import torch\n",
    "from torch import nn, optim\n",
    "from torch.utils.data import DataLoader, Dataset, TensorDataset\n",
    "from sklearn.preprocessing import StandardScaler\n",
    "from sklearn.model_selection import train_test_split\n",
    "from model.LongShortTermMemory import LongShortTermMemory as LSTM"
   ]
  },
  {
   "cell_type": "code",
   "execution_count": 2,
   "metadata": {},
   "outputs": [
    {
     "data": {
      "text/plain": [
       "<torch._C.Generator at 0x7f35bb1d29f0>"
      ]
     },
     "execution_count": 2,
     "metadata": {},
     "output_type": "execute_result"
    }
   ],
   "source": [
    "# init paramters\n",
    "seed = 1\n",
    "time_step = 7\n",
    "batch_size = 128\n",
    "learning_rate = 1e-3\n",
    "hidden_size = 300 \n",
    "n_layers = 2\n",
    "\n",
    "# steup using GPU or CPU\n",
    "device = torch.device('cuda' if torch.cuda.is_available() else 'cpu')\n",
    "# setuo random seed\n",
    "torch.manual_seed(seed)"
   ]
  },
  {
   "cell_type": "code",
   "execution_count": 3,
   "metadata": {},
   "outputs": [
    {
     "data": {
      "text/html": [
       "<div>\n",
       "<style scoped>\n",
       "    .dataframe tbody tr th:only-of-type {\n",
       "        vertical-align: middle;\n",
       "    }\n",
       "\n",
       "    .dataframe tbody tr th {\n",
       "        vertical-align: top;\n",
       "    }\n",
       "\n",
       "    .dataframe thead th {\n",
       "        text-align: right;\n",
       "    }\n",
       "</style>\n",
       "<table border=\"1\" class=\"dataframe\">\n",
       "  <thead>\n",
       "    <tr style=\"text-align: right;\">\n",
       "      <th></th>\n",
       "      <th>Sentiment_24h</th>\n",
       "      <th>DXYUSD_Gain_Rate</th>\n",
       "      <th>World_Index_Gain_Rate</th>\n",
       "      <th>GoldUSD_Gain_Rate</th>\n",
       "      <th>Silver_Gain_Rate</th>\n",
       "      <th>DBCCommodity_Gain_Rate</th>\n",
       "      <th>DJCI_Gain_Rate</th>\n",
       "      <th>CrudeOil_Gain_Rate</th>\n",
       "      <th>SPY_Gain_Rate</th>\n",
       "      <th>VIX_Gain_Rate</th>\n",
       "      <th>TNXTbill_Gain_Rate</th>\n",
       "      <th>BTC_Price</th>\n",
       "    </tr>\n",
       "  </thead>\n",
       "  <tbody>\n",
       "    <tr>\n",
       "      <th>0</th>\n",
       "      <td>0.188838</td>\n",
       "      <td>0.001341</td>\n",
       "      <td>0.003931</td>\n",
       "      <td>0.006341</td>\n",
       "      <td>0.006341</td>\n",
       "      <td>0.008765</td>\n",
       "      <td>0.019090</td>\n",
       "      <td>0.019418</td>\n",
       "      <td>0.003971</td>\n",
       "      <td>-0.000729</td>\n",
       "      <td>0.003007</td>\n",
       "      <td>117.00</td>\n",
       "    </tr>\n",
       "    <tr>\n",
       "      <th>1</th>\n",
       "      <td>0.169673</td>\n",
       "      <td>-0.005234</td>\n",
       "      <td>0.007311</td>\n",
       "      <td>-0.014732</td>\n",
       "      <td>-0.014732</td>\n",
       "      <td>-0.007181</td>\n",
       "      <td>-0.001202</td>\n",
       "      <td>-0.010167</td>\n",
       "      <td>0.002574</td>\n",
       "      <td>-0.013858</td>\n",
       "      <td>0.014537</td>\n",
       "      <td>103.43</td>\n",
       "    </tr>\n",
       "    <tr>\n",
       "      <th>2</th>\n",
       "      <td>0.131704</td>\n",
       "      <td>-0.000857</td>\n",
       "      <td>0.000000</td>\n",
       "      <td>-0.038969</td>\n",
       "      <td>-0.038969</td>\n",
       "      <td>-0.000387</td>\n",
       "      <td>-0.002442</td>\n",
       "      <td>-0.022024</td>\n",
       "      <td>-0.006590</td>\n",
       "      <td>0.043948</td>\n",
       "      <td>-0.011460</td>\n",
       "      <td>91.01</td>\n",
       "    </tr>\n",
       "    <tr>\n",
       "      <th>3</th>\n",
       "      <td>0.128927</td>\n",
       "      <td>0.007229</td>\n",
       "      <td>0.004812</td>\n",
       "      <td>0.009762</td>\n",
       "      <td>0.009762</td>\n",
       "      <td>0.008491</td>\n",
       "      <td>0.029350</td>\n",
       "      <td>0.032857</td>\n",
       "      <td>0.006743</td>\n",
       "      <td>-0.061464</td>\n",
       "      <td>-0.007304</td>\n",
       "      <td>118.33</td>\n",
       "    </tr>\n",
       "    <tr>\n",
       "      <th>4</th>\n",
       "      <td>0.157061</td>\n",
       "      <td>-0.001460</td>\n",
       "      <td>-0.012230</td>\n",
       "      <td>0.009474</td>\n",
       "      <td>0.009474</td>\n",
       "      <td>0.001896</td>\n",
       "      <td>-0.000804</td>\n",
       "      <td>0.017236</td>\n",
       "      <td>0.001427</td>\n",
       "      <td>-0.005418</td>\n",
       "      <td>0.076829</td>\n",
       "      <td>106.40</td>\n",
       "    </tr>\n",
       "  </tbody>\n",
       "</table>\n",
       "</div>"
      ],
      "text/plain": [
       "   Sentiment_24h  DXYUSD_Gain_Rate  World_Index_Gain_Rate  GoldUSD_Gain_Rate  \\\n",
       "0       0.188838          0.001341               0.003931           0.006341   \n",
       "1       0.169673         -0.005234               0.007311          -0.014732   \n",
       "2       0.131704         -0.000857               0.000000          -0.038969   \n",
       "3       0.128927          0.007229               0.004812           0.009762   \n",
       "4       0.157061         -0.001460              -0.012230           0.009474   \n",
       "\n",
       "   Silver_Gain_Rate  DBCCommodity_Gain_Rate  DJCI_Gain_Rate  \\\n",
       "0          0.006341                0.008765        0.019090   \n",
       "1         -0.014732               -0.007181       -0.001202   \n",
       "2         -0.038969               -0.000387       -0.002442   \n",
       "3          0.009762                0.008491        0.029350   \n",
       "4          0.009474                0.001896       -0.000804   \n",
       "\n",
       "   CrudeOil_Gain_Rate  SPY_Gain_Rate  VIX_Gain_Rate  TNXTbill_Gain_Rate  \\\n",
       "0            0.019418       0.003971      -0.000729            0.003007   \n",
       "1           -0.010167       0.002574      -0.013858            0.014537   \n",
       "2           -0.022024      -0.006590       0.043948           -0.011460   \n",
       "3            0.032857       0.006743      -0.061464           -0.007304   \n",
       "4            0.017236       0.001427      -0.005418            0.076829   \n",
       "\n",
       "   BTC_Price  \n",
       "0     117.00  \n",
       "1     103.43  \n",
       "2      91.01  \n",
       "3     118.33  \n",
       "4     106.40  "
      ]
     },
     "execution_count": 3,
     "metadata": {},
     "output_type": "execute_result"
    }
   ],
   "source": [
    "# load FinTech data\n",
    "df = pd.read_csv('./data/FinTech.csv', encoding='utf-8')\n",
    "df.head()"
   ]
  },
  {
   "cell_type": "code",
   "execution_count": 4,
   "metadata": {},
   "outputs": [
    {
     "data": {
      "text/plain": [
       "((1912, 11), (1912, 1))"
      ]
     },
     "execution_count": 4,
     "metadata": {},
     "output_type": "execute_result"
    }
   ],
   "source": [
    "# Divide the data set into inputs and outputs\n",
    "# df_input = df.drop(['Return'], axis=1).values\n",
    "# df_ouput = df[['Return']].values\n",
    "\n",
    "df_input = df.drop(['BTC_Price'], axis=1).values\n",
    "df_ouput = df[['BTC_Price']].values\n",
    "\n",
    "n_samples, n_features = df_input.shape\n",
    "df_input.shape, df_ouput.shape"
   ]
  },
  {
   "cell_type": "code",
   "execution_count": 5,
   "metadata": {},
   "outputs": [],
   "source": [
    "# Normalized data (mean:0, std:1)\n",
    "X_scaler = StandardScaler()\n",
    "Y_scaler = StandardScaler()\n",
    "X_scaler = X_scaler.fit(df_input)\n",
    "df_input = X_scaler.transform(df_input)\n",
    "\n",
    "Y_scaler = Y_scaler.fit(df_ouput)\n",
    "df_ouput = Y_scaler.transform(df_ouput)"
   ]
  },
  {
   "cell_type": "code",
   "execution_count": 9,
   "metadata": {},
   "outputs": [
    {
     "data": {
      "text/plain": [
       "[<matplotlib.lines.Line2D at 0x7f393d2a2820>]"
      ]
     },
     "execution_count": 9,
     "metadata": {},
     "output_type": "execute_result"
    },
    {
     "data": {
      "image/png": "[encoded data removed]",
      "text/plain": [
       "<Figure size 432x288 with 1 Axes>"
      ]
     },
     "metadata": {
      "needs_background": "light"
     },
     "output_type": "display_data"
    }
   ],
   "source": [
    "# import matplotlib.pyplot as plt\n",
    "# plt.plot(df_ouput)"
   ]
  },
  {
   "cell_type": "code",
   "execution_count": 6,
   "metadata": {},
   "outputs": [
    {
     "data": {
      "text/plain": [
       "(torch.Size([1906, 7, 11]), torch.Size([1906, 1]))"
      ]
     },
     "execution_count": 6,
     "metadata": {},
     "output_type": "execute_result"
    }
   ],
   "source": [
    "# built timeseries data for LSTM\n",
    "X_data = np.zeros([n_samples-time_step+1, time_step, n_features])\n",
    "Y_data = torch.Tensor(df_ouput[time_step-1:, :])\n",
    "n_samples = X_data.shape[0]\n",
    "X_data.shape, Y_data.shape\n",
    "\n",
    "for i in range(n_samples):\n",
    "    X_data[i, :, :] = df_input[i:i+time_step, :]\n",
    "    \n",
    "X_data = torch.Tensor(X_data)\n",
    "X_data.shape, Y_data.shape"
   ]
  },
  {
   "cell_type": "code",
   "execution_count": 7,
   "metadata": {},
   "outputs": [],
   "source": [
    "# split data to train and test set\n",
    "X_train, X_test, Y_train, Y_test = train_test_split(X_data, Y_data, test_size=0.25, random_state=1)\n",
    "# make DataLoader for train and evaluation\n",
    "train_loader = DataLoader(TensorDataset(X_train, Y_train), batch_size, shuffle=True)\n",
    "test_loader = DataLoader(TensorDataset(X_test, Y_test), batch_size, shuffle=False)\n",
    "# for bath_id, batch_data in enumerate(train_loader):\n",
    "#     print(bath_id, batch_data[0].shape)   # trian_data\n",
    "#     print(bath_id, batch_data[1].shape)   # test_data"
   ]
  },
  {
   "cell_type": "code",
   "execution_count": 8,
   "metadata": {},
   "outputs": [],
   "source": [
    "# built LSTM model\n",
    "model = LSTM(time_step, n_features, hidden_size=hidden_size, n_layers=n_layers).to(device)\n",
    "\n",
    "optimizer = optim.Adam(model.parameters(), lr=learning_rate)\n",
    "criteon = nn.MSELoss()"
   ]
  },
  {
   "cell_type": "code",
   "execution_count": 9,
   "metadata": {},
   "outputs": [],
   "source": [
    "# 'R2 score'\n",
    "def accuracy(preds, y):\n",
    "    u = torch.sum(torch.square(y - preds))\n",
    "    v = torch.sum(torch.square(y - torch.mean(y)))\n",
    "    return 1 - (u/v)\n",
    "\n",
    "\n",
    "def train(model, iterator, optimizer, criteon):\n",
    "    \n",
    "    avg_loss = []\n",
    "    avg_acc = []\n",
    "    model.train() \n",
    "\n",
    "    for batch_id, batch_data in enumerate(iterator):\n",
    "        inputs, labels = batch_data\n",
    "        inputs = inputs.to(device)\n",
    "        labels = labels.to(device)\n",
    "        pred, _ = model(inputs)\n",
    "#         print(pred.shape, labels.shape)\n",
    "        loss = criteon(pred.squeeze(), labels.squeeze())\n",
    "        acc = accuracy(pred.squeeze(), labels.squeeze()).item()\n",
    "\n",
    "        avg_loss.append(loss.item())\n",
    "        avg_acc.append(acc)\n",
    "\n",
    "        optimizer.zero_grad()\n",
    "        loss.backward()\n",
    "        optimizer.step()\n",
    "\n",
    "    avg_acc = np.array(avg_acc).mean()\n",
    "    avg_loss = np.array(avg_loss).mean()\n",
    "    return avg_loss, avg_acc\n",
    "\n",
    "\n",
    "def evaluate(model, iterator, criteon):\n",
    "\n",
    "    avg_loss = []\n",
    "    avg_acc = []\n",
    "    model.eval()\n",
    "    att_weights = []\n",
    "    with torch.no_grad():\n",
    "        for batch_data in iterator:\n",
    "            inputs, labels = batch_data\n",
    "            \n",
    "            inputs = inputs.to(device)\n",
    "            labels = labels.to(device)\n",
    "            pred, attention_weight = model(inputs)\n",
    "            att_weights.append(attention_weight.squeeze())\n",
    "            loss = criteon(pred.squeeze(), labels.squeeze())\n",
    "            acc = accuracy(pred, labels).item()\n",
    "\n",
    "            avg_loss.append(loss.item())\n",
    "            avg_acc.append(acc)\n",
    "\n",
    "    avg_loss = np.array(avg_loss).mean()\n",
    "    avg_acc = np.array(avg_acc).mean()\n",
    "    return avg_loss, avg_acc, att_weights"
   ]
  },
  {
   "cell_type": "code",
   "execution_count": 26,
   "metadata": {},
   "outputs": [
    {
     "name": "stdout",
     "output_type": "stream",
     "text": [
      "Epoch:  1 | Epoch Time: 0.0m 0.12s\n",
      "\tTrain Loss: 0.321809 | Train Acc: 66.99929%\n",
      "\t Val. Loss: 0.212647 |  Val. Acc: 79.89078%\n",
      "Epoch: 51 | Epoch Time: 0.0m 0.11s\n",
      "\tTrain Loss: 0.258776 | Train Acc: 73.41375%\n",
      "\t Val. Loss: 0.195225 |  Val. Acc: 81.57507%\n",
      "Epoch: 101 | Epoch Time: 0.0m 0.11s\n",
      "\tTrain Loss: 0.255329 | Train Acc: 73.81249%\n",
      "\t Val. Loss: 0.190940 |  Val. Acc: 81.97211%\n",
      "Epoch: 151 | Epoch Time: 0.0m 0.11s\n",
      "\tTrain Loss: 0.272850 | Train Acc: 71.43554%\n",
      "\t Val. Loss: 0.193418 |  Val. Acc: 81.90068%\n",
      "Epoch: 201 | Epoch Time: 0.0m 0.11s\n",
      "\tTrain Loss: 0.277629 | Train Acc: 72.04070%\n",
      "\t Val. Loss: 0.203409 |  Val. Acc: 80.78634%\n",
      "Epoch: 251 | Epoch Time: 0.0m 0.11s\n",
      "\tTrain Loss: 0.256249 | Train Acc: 72.55836%\n",
      "\t Val. Loss: 0.189239 |  Val. Acc: 82.06012%\n",
      "Epoch: 300 | Epoch Time: 0.0m 0.11s\n",
      "\tTrain Loss: 0.281597 | Train Acc: 70.53236%\n",
      "\t Val. Loss: 0.192516 |  Val. Acc: 81.77510%\n"
     ]
    }
   ],
   "source": [
    "#train and print model\n",
    "best_valid_acc = float('-inf')\n",
    "\n",
    "epochs = 300\n",
    "for epoch in range(epochs):\n",
    "\n",
    "    start_time = time.time()\n",
    "\n",
    "    train_loss, train_acc = train(model, train_loader, optimizer, criteon)\n",
    "    dev_loss, dev_acc, att_weights = evaluate(model, test_loader, criteon)\n",
    "\n",
    "    end_time = time.time()\n",
    "\n",
    "    epoch_mins, epoch_secs = divmod(end_time - start_time, 60)\n",
    "\n",
    "    if dev_acc > best_valid_acc: \n",
    "        best_valid_acc = dev_acc\n",
    "        torch.save(model.state_dict(), 'lstm-model.pt')\n",
    "    if epoch % 50 == 0 or epoch == epochs-1:\n",
    "        print(f'Epoch: {epoch+1:2} | Epoch Time: {epoch_mins}m {epoch_secs:.2f}s')\n",
    "        print(f'\\tTrain Loss: {train_loss:.6f} | Train Acc: {train_acc*100:.5f}%')\n",
    "        print(f'\\t Val. Loss: {dev_loss:.6f} |  Val. Acc: {dev_acc*100:.5f}%')\n"
   ]
  },
  {
   "cell_type": "code",
   "execution_count": 27,
   "metadata": {},
   "outputs": [
    {
     "data": {
      "text/plain": [
       "torch.Size([1906, 11, 7])"
      ]
     },
     "execution_count": 27,
     "metadata": {},
     "output_type": "execute_result"
    }
   ],
   "source": [
    "# exchange timestep and n_features\n",
    "new_X_data = X_data.transpose(1, 2)\n",
    "new_X_data.shape"
   ]
  },
  {
   "cell_type": "code",
   "execution_count": 28,
   "metadata": {},
   "outputs": [],
   "source": [
    "# split data to train and test set\n",
    "X_train, X_test, Y_train, Y_test = train_test_split(new_X_data, Y_data, test_size=0.25, random_state=1)\n",
    "# make DataLoader for train and evaluation\n",
    "train_loader = DataLoader(TensorDataset(X_train, Y_train), batch_size, shuffle=True)\n",
    "test_loader = DataLoader(TensorDataset(X_test, Y_test), batch_size, shuffle=False)"
   ]
  },
  {
   "cell_type": "code",
   "execution_count": 29,
   "metadata": {},
   "outputs": [],
   "source": [
    "# built LSTM model (exchanged n_feaures and time_step)\n",
    "model = LSTM(n_features, time_step, hidden_size=hidden_size, n_layers=n_layers).to(device)\n",
    "\n",
    "optimizer = optim.Adam(model.parameters(), lr=learning_rate)\n",
    "criteon = nn.MSELoss()"
   ]
  },
  {
   "cell_type": "code",
   "execution_count": 31,
   "metadata": {},
   "outputs": [
    {
     "name": "stdout",
     "output_type": "stream",
     "text": [
      "Epoch:  1 | Epoch Time: 0.0m 0.11s\n",
      "\tTrain Loss: 0.279570 | Train Acc: 70.64274%\n",
      "\t Val. Loss: 0.232963 |  Val. Acc: 77.99630%\n",
      "Epoch: 51 | Epoch Time: 0.0m 0.13s\n",
      "\tTrain Loss: 0.256321 | Train Acc: 73.52234%\n",
      "\t Val. Loss: 0.191198 |  Val. Acc: 82.04569%\n",
      "Epoch: 101 | Epoch Time: 0.0m 0.13s\n",
      "\tTrain Loss: 0.284512 | Train Acc: 70.36568%\n",
      "\t Val. Loss: 0.191175 |  Val. Acc: 82.10503%\n",
      "Epoch: 151 | Epoch Time: 0.0m 0.11s\n",
      "\tTrain Loss: 0.257026 | Train Acc: 72.07293%\n",
      "\t Val. Loss: 0.215432 |  Val. Acc: 79.87456%\n",
      "Epoch: 201 | Epoch Time: 0.0m 0.11s\n",
      "\tTrain Loss: 0.241533 | Train Acc: 75.19717%\n",
      "\t Val. Loss: 0.189500 |  Val. Acc: 82.25107%\n",
      "Epoch: 251 | Epoch Time: 0.0m 0.10s\n",
      "\tTrain Loss: 0.250400 | Train Acc: 73.95426%\n",
      "\t Val. Loss: 0.185699 |  Val. Acc: 82.55267%\n",
      "Epoch: 300 | Epoch Time: 0.0m 0.11s\n",
      "\tTrain Loss: 0.233060 | Train Acc: 73.36713%\n",
      "\t Val. Loss: 0.212430 |  Val. Acc: 80.07525%\n"
     ]
    }
   ],
   "source": [
    "#train and print model\n",
    "best_valid_acc = float('-inf')\n",
    "\n",
    "epochs = 300\n",
    "for epoch in range(epochs):\n",
    "\n",
    "    start_time = time.time()\n",
    "\n",
    "    train_loss, train_acc = train(model, train_loader, optimizer, criteon)\n",
    "    dev_loss, dev_acc, att_weights = evaluate(model, test_loader, criteon)\n",
    "\n",
    "    end_time = time.time()\n",
    "\n",
    "    epoch_mins, epoch_secs = divmod(end_time - start_time, 60)\n",
    "\n",
    "    if dev_acc > best_valid_acc: \n",
    "        best_valid_acc = dev_acc\n",
    "        torch.save(model.state_dict(), 'lstm-model.pt')\n",
    "    if epoch % 50 == 0 or epoch == epochs-1:\n",
    "        print(f'Epoch: {epoch+1:2} | Epoch Time: {epoch_mins}m {epoch_secs:.2f}s')\n",
    "        print(f'\\tTrain Loss: {train_loss:.6f} | Train Acc: {train_acc*100:.5f}%')\n",
    "        print(f'\\t Val. Loss: {dev_loss:.6f} |  Val. Acc: {dev_acc*100:.5f}%')"
   ]
  },
  {
   "cell_type": "code",
   "execution_count": 32,
   "metadata": {},
   "outputs": [
    {
     "data": {
      "text/html": [
       "<div>\n",
       "<style scoped>\n",
       "    .dataframe tbody tr th:only-of-type {\n",
       "        vertical-align: middle;\n",
       "    }\n",
       "\n",
       "    .dataframe tbody tr th {\n",
       "        vertical-align: top;\n",
       "    }\n",
       "\n",
       "    .dataframe thead th {\n",
       "        text-align: right;\n",
       "    }\n",
       "</style>\n",
       "<table border=\"1\" class=\"dataframe\">\n",
       "  <thead>\n",
       "    <tr style=\"text-align: right;\">\n",
       "      <th></th>\n",
       "      <th>variable</th>\n",
       "      <th>coefficient</th>\n",
       "    </tr>\n",
       "  </thead>\n",
       "  <tbody>\n",
       "    <tr>\n",
       "      <th>0</th>\n",
       "      <td>Sentiment_24h</td>\n",
       "      <td>204.175995</td>\n",
       "    </tr>\n",
       "    <tr>\n",
       "      <th>10</th>\n",
       "      <td>TNXTbill_Gain_Rate</td>\n",
       "      <td>45.139484</td>\n",
       "    </tr>\n",
       "    <tr>\n",
       "      <th>9</th>\n",
       "      <td>VIX_Gain_Rate</td>\n",
       "      <td>42.318916</td>\n",
       "    </tr>\n",
       "    <tr>\n",
       "      <th>8</th>\n",
       "      <td>SPY_Gain_Rate</td>\n",
       "      <td>41.416164</td>\n",
       "    </tr>\n",
       "    <tr>\n",
       "      <th>7</th>\n",
       "      <td>CrudeOil_Gain_Rate</td>\n",
       "      <td>38.141396</td>\n",
       "    </tr>\n",
       "    <tr>\n",
       "      <th>6</th>\n",
       "      <td>DJCI_Gain_Rate</td>\n",
       "      <td>31.085878</td>\n",
       "    </tr>\n",
       "    <tr>\n",
       "      <th>5</th>\n",
       "      <td>DBCCommodity_Gain_Rate</td>\n",
       "      <td>26.464375</td>\n",
       "    </tr>\n",
       "    <tr>\n",
       "      <th>4</th>\n",
       "      <td>Silver_Gain_Rate</td>\n",
       "      <td>19.716324</td>\n",
       "    </tr>\n",
       "    <tr>\n",
       "      <th>1</th>\n",
       "      <td>DXYUSD_Gain_Rate</td>\n",
       "      <td>14.089036</td>\n",
       "    </tr>\n",
       "    <tr>\n",
       "      <th>3</th>\n",
       "      <td>GoldUSD_Gain_Rate</td>\n",
       "      <td>11.992526</td>\n",
       "    </tr>\n",
       "    <tr>\n",
       "      <th>2</th>\n",
       "      <td>World_Index_Gain_Rate</td>\n",
       "      <td>2.459963</td>\n",
       "    </tr>\n",
       "  </tbody>\n",
       "</table>\n",
       "</div>"
      ],
      "text/plain": [
       "                  variable  coefficient\n",
       "0            Sentiment_24h   204.175995\n",
       "10      TNXTbill_Gain_Rate    45.139484\n",
       "9            VIX_Gain_Rate    42.318916\n",
       "8            SPY_Gain_Rate    41.416164\n",
       "7       CrudeOil_Gain_Rate    38.141396\n",
       "6           DJCI_Gain_Rate    31.085878\n",
       "5   DBCCommodity_Gain_Rate    26.464375\n",
       "4         Silver_Gain_Rate    19.716324\n",
       "1         DXYUSD_Gain_Rate    14.089036\n",
       "3        GoldUSD_Gain_Rate    11.992526\n",
       "2    World_Index_Gain_Rate     2.459963"
      ]
     },
     "execution_count": 32,
     "metadata": {},
     "output_type": "execute_result"
    }
   ],
   "source": [
    "dev_loss, dev_acc, att_weights = evaluate(model, test_loader, criteon)\n",
    "att = torch.cat(att_weights, dim=0).cpu()\n",
    "pd.DataFrame(att.numpy().sum(axis=0).reshape(-1, 1))\n",
    "df_coef = pd.DataFrame(columns=['variable', 'coefficient'])\n",
    "df_coef['variable'] = df.columns[:-1]\n",
    "df_coef['coefficient'] = att.numpy().sum(axis=0)\n",
    "# df_coef['abs_coefficient'] = df_coef['coefficient'].abs()\n",
    "# sort by absolute value of coefficient\n",
    "pd.set_option('display.max_rows',None)\n",
    "df_coef.sort_values(by=['coefficient'], ascending=False)"
   ]
  }
 ],
 "metadata": {
  "kernelspec": {
   "display_name": "anaconda",
   "language": "python",
   "name": "anaconda"
  },
  "language_info": {
   "codemirror_mode": {
    "name": "ipython",
    "version": 3
   },
   "file_extension": ".py",
   "mimetype": "text/x-python",
   "name": "python",
   "nbconvert_exporter": "python",
   "pygments_lexer": "ipython3",
   "version": "3.8.3"
  }
 },
 "nbformat": 4,
 "nbformat_minor": 4
}
